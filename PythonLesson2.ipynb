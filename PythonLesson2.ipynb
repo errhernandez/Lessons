{
  "nbformat": 4,
  "nbformat_minor": 0,
  "metadata": {
    "colab": {
      "provenance": []
    },
    "kernelspec": {
      "name": "python3",
      "display_name": "Python 3"
    },
    "language_info": {
      "name": "python"
    }
  },
  "cells": [
    {
      "cell_type": "markdown",
      "source": [
        "In Lesson 1 we saw the very basics of Python; that might have been a bit boring. Here we will start with more advanced things, which we hope will be more fun. Let's get started!\n",
        "\n",
        "# Numerical Python: numpy\n",
        "\n",
        "Scientits, even those using Windows (🤮) often have to do numerical calculations. The core Python language is not really meant for that, but fortunately we have __numpy__ to make our lives easier.\n",
        "\n",
        "It is customary to import __numpy__ like so:\n",
        "```\n",
        "import numpy as np\n",
        "```\n",
        "If you remember from the previous lesson, the standard library includes a module called __math__, but we said that it is not very useful. __numpy__ contains all of __math__, plus a lot of extra functionality that makes it much more useful for mathematics. You can find the __numpy__ documentation [here](https://numpy.org/doc/stable/reference/index.html).\n",
        "\n",
        "Type this to get started:\n",
        "```\n",
        "import numpy as np\n",
        "np.pi\n",
        "```"
      ],
      "metadata": {
        "id": "xEtz7dq6-tGM"
      }
    },
    {
      "cell_type": "code",
      "execution_count": null,
      "metadata": {
        "id": "myM6r15T-nML"
      },
      "outputs": [],
      "source": []
    },
    {
      "cell_type": "markdown",
      "source": [
        "The core Python does not include any facilities for numerical arrays; we saw Python arrays that can contain any kind of object (not necessarily all of the same type), but these are not really convenient for numerical operations. For the latter, numpy has the __ndarray__, an object that is meant to represent arrays of numerical types, all of the same kind. You can even create arrays of character type, or bool (logical).\n",
        "\n",
        "__ndarrays__ are very convenient for numerical calculations. Let's create some:\n",
        "```\n",
        "x = np.linspace(0.0, 2. * np.pi, 100)\n",
        "sine = np.sin(x)\n",
        "cosine = np.cos(x)\n",
        "```\n",
        "Type these in the next cell."
      ],
      "metadata": {
        "id": "QH5zYpHUDL-1"
      }
    },
    {
      "cell_type": "code",
      "source": [],
      "metadata": {
        "id": "3f4w6a2sFDGH"
      },
      "execution_count": null,
      "outputs": []
    },
    {
      "cell_type": "markdown",
      "source": [
        "__linspace__ creates a numpy ndarray called x, containing 100 equally spaced values between 0 and 2 pi. The functions np.sin and np.cos are then used to calculate the sine and the cosine for all values contained in x. Notice that you don't need to do this in a loop; calling np.sin(x) suffices to calculate the sine for all values of x (behind the scene, the loop is done automatically).\n",
        "\n",
        "This is about the simplest thing you can do with numpy, i.e. create numerical arrays and operate with them. But numpy actually contains a lot of numerical functionality, including linear algebra, random number generators, Fourier transforms or statistical analysis to name but a few. Again, check the documentation if you want to learn more.\n",
        "\n",
        "It would be nice to see what the sine and cosine look like, wouldn't it? Let's see how we can do that!\n",
        "\n",
        "# Plotting things\n",
        "\n",
        "Another module you will probably be using all the time is __matplotlib__. Here's a basic example of its use:\n",
        "```\n",
        "import matplotlib.pyplot as plt\n",
        "plt.figure()\n",
        "plt.plot(x, sine, 'r-', label='Sine')\n",
        "plt.plot(x, cosine, 'b-', label='Cosine')\n",
        "plt.legend()\n",
        "plt.show()\n",
        "```\n",
        "See if it works!"
      ],
      "metadata": {
        "id": "HmgiQrHEFFvN"
      }
    },
    {
      "cell_type": "code",
      "source": [],
      "metadata": {
        "id": "d9EUGWSXIJtQ"
      },
      "execution_count": null,
      "outputs": []
    },
    {
      "cell_type": "markdown",
      "source": [
        "Ain't that cool!\n",
        "\n",
        "With the __matplotlib__ module you can do really fancy stuff, from creating publication quality graphs, to animations, pie charts, scatter plots, 3D graphs, you name it. You can even plot photographic images, and manipulate them. We really don't have time to cover all its functionality here, but as always with Python modules, you can go and check the on-line documentation, which you will find in [matplotlib](https://https://matplotlib.org/).\n",
        "\n",
        "Ok. Before we move onto new ground, let's show a final example of numpy and matplotlib combined. Let's add some random noise to our trigonometric functions; for that we use the numpy random generator facilities:\n",
        "```\n",
        "# We'll first define a random number generator using numpy's\n",
        "# random module\n",
        "rng = np.random.default_rng()\n",
        "\n",
        "# Then use this random number generator to create a noisy sine\n",
        "# and cosine functions\n",
        "noisy_sine = sine + 0.1 * rng.standard_normal(100)\n",
        "noisy_cosine = cosine + 0.1 * rng.standard_normal(100)\n",
        "\n",
        "plt.figure()\n",
        "# this time we will plot the noisy data with points rather\n",
        "# than continuous lines\n",
        "plt.plot(x, noisy_sine, 'r.', label='Noisy Sine')\n",
        "plt.plot(x, noisy_cosine, 'b.', label='Noisy Cosine')\n",
        "# and for good measure, we will plot again the original data\n",
        "plt.plot(x, sine, 'r-', label='Sine')\n",
        "plt.plot(x, cosine, 'b-', label='Cosine')\n",
        "plt.legend()  # show the labels in the plot!\n",
        "plt.show()\n",
        "```\n",
        "See what that gets you!"
      ],
      "metadata": {
        "id": "LOnP2Ow9JkMi"
      }
    },
    {
      "cell_type": "code",
      "source": [],
      "metadata": {
        "id": "sqUzBmNhI0rS"
      },
      "execution_count": null,
      "outputs": []
    },
    {
      "cell_type": "markdown",
      "source": [
        "In case you didn't notice, in the previous code snippet we used the hash (```#```) to signal the start of a comment. Everything after a hash is interpreted as a comment by Python and ignored. It's there to inform human readers (including yourself) as to what the code is doing. It is good practice to document your codes. After a few days you are likely to forget what your code is supposed to be doing, and a rightly placed comment may save you much time trying to decifer it!\n",
        "\n",
        "Let's move on now to\n",
        "\n",
        "# Functions\n",
        "\n",
        "We'll start with a very silly example:\n",
        "```\n",
        "def silly(x, y):\n",
        "    return x + y\n",
        "```\n",
        "This defines the function silly(x,y), which takes two arguments and returns their sum. After it is defined, you can use it like this: silly(2,4). Try it out!"
      ],
      "metadata": {
        "id": "Rl7ux4x_VgxK"
      }
    },
    {
      "cell_type": "code",
      "source": [],
      "metadata": {
        "id": "hiuQBfUgtMZ-"
      },
      "execution_count": null,
      "outputs": []
    },
    {
      "cell_type": "markdown",
      "source": [
        "The built-in command __def__ signals the start of a function definition. It is followed by the name of the function, which should not coincide with any built-in names, and the argument(s) in parenthesis, if any. A function can have as many lines of code as it needs to do its job. Frequently (though not always) a function returns a value through the __return__ instruction (in this case the sum of the two arguments). Notice the indentation; once the function definition is over, indentation should go back to what it was when starting the __def__ command. Of course, this example is a bit silly (hence the name); the purpose of functions is to avoid repeating the same piece of code when you need to do the same operations in different parts of a program, or even in different programs. For example, imagine that you often have to work with circles, and that you have to calculate the area of those circles. You could define a function like this:\n",
        "```\n",
        "def circle_area(radius):\n",
        "    from math import pi\n",
        "    area = pi * radius ** 2\n",
        "    return area\n",
        "```\n",
        "Once you have defined it, you can use it repeatedly throughout your code, provided it is within the scope (more about scope below). Try defining it below, and calculate the area of a circle of radius 1."
      ],
      "metadata": {
        "id": "otblhzrWtW0K"
      }
    },
    {
      "cell_type": "code",
      "source": [],
      "metadata": {
        "id": "A7STHC8yuyZY"
      },
      "execution_count": null,
      "outputs": []
    },
    {
      "cell_type": "markdown",
      "source": [
        "You can even save your function circle_area() above to a file for later use in many different codes; let's say you saved it to a file called _circle.py_. Then, in each code where you needed it you would import it like you import any other python module; for example:\n",
        "```\n",
        "from circle import circle_area\n",
        "```\n",
        "and from that point on you would be able to call it as many times as you need.\n",
        "\n",
        "# Scope\n",
        "When you define a new function, the function creates a local _namespace_ or _scope_, i.e. a list of the names of variables and other things known within the function. This scope is local to the function, meaning that it is not accessible outside of it. For example, take our circle_area() function defined above; the value pi is defined only within the scope of the function; if you try to access it outside of it, you will get an error.\n",
        "\n",
        "# Recursion\n",
        "Functions in Python can be recursive, although this is not something one uses frequently. Here is an example:\n",
        "```\n",
        "def factorial(n):\n",
        "    if n == 0:\n",
        "       return 1\n",
        "    else:\n",
        "       return n * factorial(n-1)\n",
        "```\n",
        "Try defining this function, and check if it works correctly, for example factorial(5). Does it give the correct result?"
      ],
      "metadata": {
        "id": "zT0etEykV7oi"
      }
    },
    {
      "cell_type": "code",
      "source": [],
      "metadata": {
        "id": "J_asq2ZXRMz2"
      },
      "execution_count": null,
      "outputs": []
    },
    {
      "cell_type": "markdown",
      "source": [
        "# Function arguments\n",
        "Python provides a lot of flexibility for defining the function interface (i.e. defining how users interact with your functions). Let's see some of this flexibility:\n",
        "## Default arguments\n",
        "Let's say that, more often than not, you need to calculate the area of a circle of radius=1. Then you could modify the circle_area() function creation statement like this:\n",
        "```\n",
        "def circle_area(radius=1):\n",
        "```\n",
        "with everything the same inside the definition. With this, you can still use the function to calculate the area of circles of arbitrary radius, but if you simply call it circle_area(), it will assume the default value (i.e. radius=1).\n",
        "\n",
        "You may think that it is a bit boring to ask you to try this out, but you know, we learn by repetition, so shut up and do it!"
      ],
      "metadata": {
        "id": "vaOpMncubPWl"
      }
    },
    {
      "cell_type": "code",
      "source": [],
      "metadata": {
        "id": "vpwSYULre-1n"
      },
      "execution_count": null,
      "outputs": []
    },
    {
      "cell_type": "markdown",
      "source": [
        "Let's see a somewhat better use of default arguments. Let's consider a function to calculate the area of an ellipse. Now, an ellipse is just a generalised kind of circle, right? with two semi-axes, _a_ and _b_. When b=a we have a circle. So one could define the function like this:\n",
        "```\n",
        "def ellipse_area(a, b=None):\n",
        "    from math import pi\n",
        "    if b is None:     # b is undefined, so we have a circle\n",
        "       area = pi * a ** 2\n",
        "    else:             # b IS defined, so we have an ellipse\n",
        "       area = pi * a * b\n",
        "    return area\n",
        "```\n",
        "A variable that has not been defined has the special value __None__ (with capital N). So, if we call the above function like this:\n",
        "```\n",
        "ellipse_area(5.)\n",
        "```\n",
        "_b_ is undefined (i.e. its value is None), so the function returns the area of a circle of radius 5. Note that this is different than the case b=0. In this case, b IS defined, and the function would return a value of zero, which, depending on how you write it, can be either a circle or an ellipse 😆! If, on the other hand, you call ellipse_area(5., 4.), you'll get the area of a beautiful ellipse.\n",
        "\n",
        "Remember what we said above about repetition? Well, then you know what you have to do now, don't you?"
      ],
      "metadata": {
        "id": "9SmxpMmdfEel"
      }
    },
    {
      "cell_type": "code",
      "source": [],
      "metadata": {
        "id": "x6vLNvcajl3I"
      },
      "execution_count": null,
      "outputs": []
    },
    {
      "cell_type": "markdown",
      "source": [
        "## Variadic arguments\n",
        "Sometimes you simply cannot anticipate how many variables a function needs to take, because there will be different possibilities, all equally likely. In this situation you can use variadic arguments. Let's see an example:\n",
        "```\n",
        "def print_person_name(*args):\n",
        "    name = ''\n",
        "    space = ' '\n",
        "    for item in args:\n",
        "        name += item + space\n",
        "    print(name)\n",
        "```\n",
        "Create this function and try it out with a few names. For example\n",
        "```\n",
        "print_person_name('Caius', 'Iulius', 'Augustus', 'Caesar')\n",
        "print_name('Mario', 'Moreno', '\"Cantinflas\"')\n",
        "```\n",
        "Off you go and try it!\n"
      ],
      "metadata": {
        "id": "3qbH2u0QlILQ"
      }
    },
    {
      "cell_type": "code",
      "source": [],
      "metadata": {
        "id": "67onLFk7vNNB"
      },
      "execution_count": null,
      "outputs": []
    }
  ]
}