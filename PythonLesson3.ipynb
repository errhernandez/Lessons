{
  "nbformat": 4,
  "nbformat_minor": 0,
  "metadata": {
    "colab": {
      "provenance": []
    },
    "kernelspec": {
      "name": "python3",
      "display_name": "Python 3"
    },
    "language_info": {
      "name": "python"
    }
  },
  "cells": [
    {
      "cell_type": "markdown",
      "source": [
        "Welcome to lesson 3 in this Python course!\n",
        "\n",
        "Just a brief recap of what we've seen thus far. In Lesson 1 we had a general introduction to Python, covering things like syntax, lists, control flow, you know, enough of the basics to get started; in Lesson 2 we introduced some important modules, namely __numpy__, __matplotlib__ and a few others, but we spent most of the time introducting functions and how to use them. Now we take a big step forward and introduce the magic incantation: __Object Oriented Programming__, or OOP for short. You will see that this is a very powerful concept, yet far less mysterious than many people think; if you learn this well and, above all, if you make good use of it, you will be able to show off at parties and people will look at you in awe and admiration 🤣. So, let's jump into it!\n",
        "# Classes, objects and all that\n",
        "In my view, OPP is about creating new data types, data types (reminder, by type we mean things like integer, float or character, i.e. types of variables) which are convenient for you for your particular task. Creating a new data type means creating not just the type itself, but also the kind of operations that that data type can perform. The mechanism for creating a new type is called __class__, so let's see a rather trivial example. Imagine we want to define a type to describe circles, and operations that we can do with circles. We would do something like this:\n",
        "```\n",
        "class circle:\n",
        "    \"\"\" this class defines a basic circle \"\"\"\n",
        "\n",
        "    def __init__(self, radius):\n",
        "        \"\"\" create a circle of given radius \"\"\"\n",
        "        self.r = radius\n",
        "\n",
        "    def radius(self):\n",
        "        \"\"\" return my radius \"\"\"\n",
        "        return self.r\n",
        "```\n",
        "I'll explain below what this is doing, but before we get to that, just make sure you type this class into the next cell.\n"
      ],
      "metadata": {
        "id": "0MD2p3YI6gzT"
      }
    },
    {
      "cell_type": "code",
      "execution_count": null,
      "metadata": {
        "id": "oXvoAvrK6PNX"
      },
      "outputs": [],
      "source": []
    },
    {
      "cell_type": "markdown",
      "source": [
        "Right, let's go over this bit of code: first, the text appearing between two sets of three double quotes is a comment; we already saw how to use the hash for simple comments; the advantage of doing it this way is that comments can extend over several lines, provided those lines appear between two pairs of ```\"\"\"```. We start the class definition with the command __class__ and a name (circle in this example), and in the body of the class we define functions that operate on _instances_ or _objects_ of the class. Once my class is defined, I can create particular instances (objects) of it, in this case I can create individual circles. Still with me? If you are confused, just think about 1, 2, 3: they are all particular instances of the class _integer_; all we have done is create a new type to represent circles rather than integers.\n",
        "\n",
        "Let's now see the function definitions inside the class. The first one is a special kind of function, and that is why it's name is surrounded by two underscores on either side (```__init___```). As its name indicates, this function creates or initialises a new instance of the class circle. It takes two arguments, the radius (how big the circle is); the other variable, _self_, you don't need to worry about: it refers to the object being created _itself_, i.e. to the new circle object. The function takes the value of the argument _radius_, and assigns it to a class variable, self.r.\n",
        "\n",
        "The other function, _radius(self)_ is there to inform us of the radius of the circle we just created.\n",
        "Good! Well, now we have a new class of objects of type _circle_. Let's create a few of them and see:\n",
        "```\n",
        "small_circle = circle(1.)\n",
        "big_circle = circle(50.)\n",
        "small_circle.radius()\n",
        "big_circle.radius()\n",
        "```"
      ],
      "metadata": {
        "id": "jxJadTNzBpP6"
      }
    },
    {
      "cell_type": "code",
      "source": [],
      "metadata": {
        "id": "xwBPZ30nCO0b"
      },
      "execution_count": null,
      "outputs": []
    },
    {
      "cell_type": "markdown",
      "source": [
        "You get the idea, right? Note that in creating small_circle and big_circle we did not need to call ```__init__``` explicitly; just using the name of the class (circle) and the list of arguments of ```__init__``` does it automatically for you; nor do you need to provide a value for the self argument (that is the object being created itself).\n",
        "\n",
        "Once we have created an instance of the circle class, we can ask for its radius calling its _radius()_ method. Notice that this is not a special function (it is not surrounded by double underscores), it is just a method that we define for our convenience. Notice also that we call this function (method) without arguments even if when we defined it in the class it had the argument _self_. When we write ```small_circle.radius()```, self is refering to the particular object small_circle. Notice also that variables with the ```self.``` (self dot) prefix are within the scope of the whole object: indeed, we created self.r in function ```self.__init__```, but used it in the function ```self.radius()```.\n",
        "\n",
        "Admittedly our class circle is not very useful. Let's give it a bit more functionality:\n",
        "```\n",
        "class circle:\n",
        "    \"\"\" this class defines a basic circle \"\"\"\n",
        "\n",
        "    def __init__(self, radius):\n",
        "        \"\"\" create a circle of given radius \"\"\"\n",
        "        self.r = radius\n",
        "\n",
        "    def radius(self):\n",
        "        \"\"\" return my radius \"\"\"\n",
        "        return self.r\n",
        "\n",
        "    def perimeter(self):\n",
        "        \"\"\" calculates the perimeter \"\"\"\n",
        "        from math import pi\n",
        "        p = 2. * pi * self.r\n",
        "        return p\n",
        "\n",
        "    def area(self):\n",
        "        \"\"\" calculates the area \"\"\"\n",
        "        from math import pi\n",
        "        a = pi * self.r ** 2\n",
        "        return a\n",
        "```\n",
        "Still not very useful (only as an example), but at least now given an object of the class circle you can ask for its perimeter and its area (as well as its radius). Do try it out!"
      ],
      "metadata": {
        "id": "wHWzYP0kINtW"
      }
    },
    {
      "cell_type": "code",
      "source": [],
      "metadata": {
        "id": "uyYXDYqYP605"
      },
      "execution_count": null,
      "outputs": []
    },
    {
      "cell_type": "markdown",
      "source": [
        "You may be wondering what use is all of this class and object business. Well, you may well spend your entire Python programming life without having to use OOP, and that is fine, if you ever go into any sizable Python projects, you may find classes and OOP extremely useful. Let me give you a couple of physics-motivated examples:\n",
        "* Imagine you have to write a simulation program of the solar system, essentially solving Newton's equations of motion for the planets and their satelites from given starting conditions; you could then define a class to represent a celestial body. This class would need to contain the mass of the body, and vectors to specify its position with respect to the sun, its velocity, and the force acting on it excerted by all other bodies. The program would then update in time each of these vectors.\n",
        "* Consider writing a program that analyses the point group symmetry of molecules. One can think of two different classes here: a class to represent a molecule, containing a set of coordinates of its atoms, as well as its chemical species, and a class to represent a symmetry operator (e.g. a rotation of a certain order around a given axis). In fact, you may even want to consider a class to represent an atom, and to use it to build up a molecule.\n",
        "\n",
        "Let's consider this last class, the _atom_ class, and see how this could be done:\n",
        "```\n",
        "class atom:\n",
        "      \"\"\" A class to represent an atom \"\"\"\n",
        "\n",
        "      def __init__(self, symbol, mass, position = np.array([0,0,0])):\n",
        "          \"\"\"\n",
        "          Initialise the atom\n",
        "          Arguments:\n",
        "             symbol (str): (mandatory)\n",
        "             mass (float): atomic mass in Dalton\n",
        "             position (numpy array, optional, default 0.\n",
        "          \"\"\"\n",
        "\n",
        "          self.symbol = symbol\n",
        "          self.mass = mass\n",
        "          self.position = position\n",
        "\n",
        "      def symbol(self):\n",
        "          \"\"\" Return my symbol \"\"\"\n",
        "          return self.symbol\n",
        "\n",
        "      def displace(self, displacement):\n",
        "          \"\"\" Apply a displacement to self \"\"\"\n",
        "\n",
        "          self.position += displacement\n",
        "\n",
        "```\n",
        "Our atom class is very simple, but it serves as the basis for a more complete class that could actually be useful. Try creating this class, and then create some instances of it, for example:\n",
        "```\n",
        "Oxygen = atom('O', 16.)\n",
        "Hydrogen_1 = atom('H', 1., np.array([0.758602, 0.000000, 0.504284]))\n",
        "Hydrogen_2 = atom('H', 1., np.array([.758602, 0.000000, -0.504284]))\n",
        "```\n",
        "The first atom, the oxygen, was placed at the origin (default position), but the two hydrogen atoms were placed at specified points. You can see that these three atoms make up a water molecule; now you can think about how you would define a molecule class. One possibility would be to simply pass it a list of atom instances, like the ones created above. Now think: what methods could such a molecule class have?\n",
        "\n",
        "        \n",
        "              "
      ],
      "metadata": {
        "id": "4faqVLAtRqYE"
      }
    }
  ]
}