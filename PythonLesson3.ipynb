{
  "nbformat": 4,
  "nbformat_minor": 0,
  "metadata": {
    "colab": {
      "provenance": []
    },
    "kernelspec": {
      "name": "python3",
      "display_name": "Python 3"
    },
    "language_info": {
      "name": "python"
    }
  },
  "cells": [
    {
      "cell_type": "markdown",
      "source": [
        "Welcome to lesson 3 in this Python course!\n",
        "\n",
        "Just a brief recap of what we've seen thus far. In Lesson 1 we had a general introduction to Python, covering things like syntax, lists, control flow, you know, enough of the basics to get started; in Lesson 2 we introduced some important modules, namely __numpy__, __matplotlib__ and a few others, but we spent most of the time introducting functions and how to use them. Now we take a big step forward and introduce the magic incantation: __Object Oriented Programming__, or OOP for short. You will see that this is a very powerful concept, yet far less mysterious than many people think; if you learn this well and, above all, if you make good use of it, you will be able to show off at parties and people will look at you in awe and admiration 🤣. So, let's jump into it!\n",
        "# Classes, objects and all that\n",
        "In my view, OOP is about creating new data types, data types (reminder, by type we mean things like integer, float or character, i.e. types of variables) which are convenient for you in solving your particular task. Creating a new data type means creating not just the type itself, but also the kind of operations that your data type can perform. The mechanism for creating a new type is called __class__, so let's see a rather trivial example. Imagine we want to define a type to describe circles, and operations that we can do with circles. We would do something like this:\n",
        "```\n",
        "class circle:\n",
        "    \"\"\" this class defines a basic circle \"\"\"\n",
        "\n",
        "    def __init__(self, radius):\n",
        "        \"\"\" create a circle of given radius \"\"\"\n",
        "        self.r = radius\n",
        "\n",
        "    def radius(self):\n",
        "        \"\"\" return my radius \"\"\"\n",
        "        return self.r\n",
        "```\n",
        "I'll explain below what this is doing, but before we get to that, just make sure you type this class into the next cell.\n"
      ],
      "metadata": {
        "id": "0MD2p3YI6gzT"
      }
    },
    {
      "cell_type": "code",
      "execution_count": null,
      "metadata": {
        "id": "oXvoAvrK6PNX"
      },
      "outputs": [],
      "source": []
    },
    {
      "cell_type": "markdown",
      "source": [
        "Right, let's go over this bit of code. We start the class definition with the command __class__ and a name (circle in this example), and in the body of the class we define functions that operate on _instances_ or _objects_ of the class. The text appearing between two sets of three double quotes is a comment; we already saw how to use the hash for simple comments; the advantage of doing it this way is that comments can extend over several lines, provided those lines appear between two pairs of ```\"\"\"```. Once my class is defined, I can create particular instances (objects) of it, in this case I can create individual circles. Still with me? If you are confused, just think about 1, 2, 3: they are all particular instances of the class _integer_; all we have done is create a new type to represent circles rather than integers.\n",
        "\n",
        "Let's now see the function definitions inside the class. We saw how to create and use stand-alone functions in Lesson 2; class functions (or _methods_, as they are also called) are just the same, only they are defined inside of a class definition. The first one is a special kind of function, and that is why it's name is surrounded by two underscores on either side (```__init___```). As its name indicates, this function creates or initialises a new instance of the class circle. It takes two arguments, the radius (how big the circle is); the other variable, _self_, you don't need to worry about: it refers to the object being created _itself_, i.e. to the new circle object. You could have used any other variable name to represent the class (e.g. in C++ the convention is to use the name _this_), but in Python the convention is to refer to the current object as _self_, and using any other name would be regarded as _unpythonic_ and frowned upon. The function takes the value of the argument _radius_, and assigns it to a class variable, self.r.\n",
        "\n",
        "The other function, _radius(self)_ is there to inform us of the radius of the circle we just created.\n",
        "\n",
        "I said above you don't need to worry about argument _self_; why? because you don't actually use it yourself when calling class methods, as you will see in the examples. It is good to know why it's there in the definitions, but you don't use it (at least not explicitly).\n",
        "\n",
        "Good! Well, now we have a new class of objects of type _circle_. Let's create a few of them and see:\n",
        "```\n",
        "small_circle = circle(1.)\n",
        "big_circle = circle(50.)\n",
        "print(small_circle.radius())\n",
        "print(big_circle.radius())\n",
        "```"
      ],
      "metadata": {
        "id": "jxJadTNzBpP6"
      }
    },
    {
      "cell_type": "code",
      "source": [],
      "metadata": {
        "id": "xwBPZ30nCO0b"
      },
      "execution_count": null,
      "outputs": []
    },
    {
      "cell_type": "markdown",
      "source": [
        "You get the idea, right? Note that in creating small_circle and big_circle we did not need to call ```__init__``` explicitly; just using the name of the class (circle) and the list of arguments of ```__init__``` does it automatically for you; nor do you need to provide a value for the self argument (that is the object being created itself). I know! I'm repeating myself here, but I am an old man, even if I don't look like one!\n",
        "\n",
        "Once we have created an instance of the circle class, we can ask for its radius calling its _radius()_ method. Notice that this is not a special function (it is not surrounded by double underscores), it is just a method that we define for our convenience. Notice also that we call this function (method) without arguments even if when we defined it in the class it had the argument _self_. When we write ```small_circle.radius()```, self is refering to the particular object small_circle. Notice also that variables with the ```self.``` (self dot) prefix are within the scope of the whole object: indeed, we created self.r in function ```self.__init__```, but used it in the function ```self.radius()```. I do sound like an old man, don't I?\n",
        "\n",
        "Admittedly our circle class is not very useful. Let's give it a bit more functionality:\n",
        "```\n",
        "class circle:\n",
        "    \"\"\" this class defines a basic circle \"\"\"\n",
        "\n",
        "    def __init__(self, radius):\n",
        "        \"\"\" create a circle of given radius \"\"\"\n",
        "        self.r = radius\n",
        "\n",
        "    def radius(self):\n",
        "        \"\"\" return my radius \"\"\"\n",
        "        return self.r\n",
        "\n",
        "    def perimeter(self):\n",
        "        \"\"\" calculates the perimeter \"\"\"\n",
        "        from math import pi\n",
        "        p = 2. * pi * self.r\n",
        "        return p\n",
        "\n",
        "    def area(self):\n",
        "        \"\"\" calculates the area \"\"\"\n",
        "        from math import pi\n",
        "        a = pi * self.r ** 2\n",
        "        return a\n",
        "```\n",
        "Still not very useful (only as an example), but at least now given an object of the class circle you can ask for its perimeter and its area (as well as its radius). Do try it out!"
      ],
      "metadata": {
        "id": "wHWzYP0kINtW"
      }
    },
    {
      "cell_type": "code",
      "source": [],
      "metadata": {
        "id": "uyYXDYqYP605"
      },
      "execution_count": null,
      "outputs": []
    },
    {
      "cell_type": "markdown",
      "source": [
        "You may be wondering what use is all of this class and object business. Well, you may well spend your entire Python programming life without having to use OOP, and that is fine, but if you ever go into any sizable Python projects, you may find classes and OOP extremely useful. Let me give you a couple of physics-motivated examples:\n",
        "* Imagine you have to write a simulation program of the solar system, essentially solving Newton's equations of motion for the planets and their satellites from given starting conditions; you could then define a class to represent a celestial body. This class would need to contain the mass of the body. You may want to provide a name for each of these objects, such as 'Mars', or 'Ceres'. The class would also need to define vectors to specify the position with respect to the sun, velocity, and the force acting on the body excerted by all other bodies the solar system. The program would then update in time each of these vectors.\n",
        "* Consider writing a program that analyses the point group symmetry of molecules. One can think of two different classes here: a class to represent a molecule, containing the set of coordinates of its atoms, as well as its chemical species, and a class to represent a symmetry operator (e.g. a rotation of a certain order around a given axis). In fact, you may even want to consider a class to represent an atom, and to use it to build up a molecule.\n",
        "\n",
        "Let's consider this last class, the _atom_ class, and see how this could be done:\n",
        "```\n",
        "class atom:\n",
        "      \"\"\" A class to represent an atom \"\"\"\n",
        "\n",
        "      def __init__(self, symbol, mass, position = np.array([0,0,0])):\n",
        "          \"\"\"\n",
        "          Initialise the atom\n",
        "          Arguments:\n",
        "             symbol (str): (mandatory)\n",
        "             mass (float): atomic mass in Dalton (mandatory)\n",
        "             position (float numpy array), optional, default 0.\n",
        "          \"\"\"\n",
        "\n",
        "          self.symbol = symbol\n",
        "          self.mass = mass\n",
        "          self.position = position\n",
        "\n",
        "      def symbol(self):\n",
        "          \"\"\" Return my symbol \"\"\"\n",
        "          return self.symbol\n",
        "\n",
        "      def displace(self, displacement):\n",
        "          \"\"\" Apply a displacement to self \"\"\"\n",
        "          self.position += displacement\n",
        "\n",
        "```\n",
        "Our atom class is very simple, but it serves as the basis for a more complete class that could actually be useful. Try creating this class, and then create some instances of it, for example:\n",
        "```\n",
        "Oxygen = atom('O', 16.)\n",
        "Hydrogen_1 = atom('H', 1., np.array([0.758602, 0.000000, 0.504284]))\n",
        "Hydrogen_2 = atom('H', 1., np.array([.758602, 0.000000, -0.504284]))\n",
        "```\n",
        "The first atom, the oxygen, was placed at the origin (default position), but the two hydrogen atoms were placed at specified points. You can see that these three atoms make up a water molecule; now you can think about how you would define a molecule class. One possibility would be to simply pass it a list of atom instances, like the ones created above. Now think: what methods could such a molecule class have?\n",
        "\n",
        "        \n",
        "              "
      ],
      "metadata": {
        "id": "4faqVLAtRqYE"
      }
    },
    {
      "cell_type": "code",
      "source": [],
      "metadata": {
        "id": "QGhg6YhHkawa"
      },
      "execution_count": null,
      "outputs": []
    },
    {
      "cell_type": "markdown",
      "source": [
        "Our _atom_ class only has two _methods_, symbol() that returns the chemical symbol of the atom (or whatever was used as symbol when the atom instance was created), and a function displace(), that moves the atom from its current position by the argument vector (displacement). The class could have more methods; for example, one to return the mass, which I just could not be bothered to write.\n",
        "\n",
        "Strictly speaking, these methods would not be necessary, because class data is not hidden in the class. You can type\n",
        "```\n",
        "print(Hydrogen_1.symbol)\n",
        "print(Hydrogen_2.position)\n",
        "print(Oxygen.mass)\n",
        "```\n",
        "I actually prefer not to use this kind of direct access to class data, and get it via a method (a _getter_ method), which to me sounds less error prone, but doing it like this is legal and you can do it if you chose to.\n",
        "\n",
        "Now that we have an _atom_ class, the natural next step would be to create a _molecule_ class, right? So...\n",
        "\n",
        "Code Challenge! Write a _molecule_ class, that takes a list of atoms as input to create it, for example:\n",
        "```\n",
        "water = molecule([Oxygen, Hydrogen_1, Hydrogen_2])\n",
        "```\n",
        "and equip it with a method that returns the centre of mass of the molecule (so that it actually does something useful). For those of you who have forgotten first-year Physics (shame on you!), the centre of mass of a system of particles is defined as the sum over all particles of the product of mass times position vector, divided by the sum of all masses."
      ],
      "metadata": {
        "id": "c_6IB06QmMLQ"
      }
    },
    {
      "cell_type": "code",
      "source": [],
      "metadata": {
        "id": "qcCA5wOGsRri"
      },
      "execution_count": null,
      "outputs": []
    },
    {
      "cell_type": "markdown",
      "source": [
        "# Inheritance and derived classes\n",
        "Now, this is where the fun really starts with OOP! What is this business of _inheritance_? It is best explained with an example. Consider the following class:\n",
        "```\n",
        "class Person:\n",
        "     \"\"\" Do I really neet to explain what this does? \"\"\"\n",
        "\n",
        "     def __init__(self, name, surname, id = 'Unknown'):\n",
        "         \"\"\" Get a bit of clay, or someone's rib, and create a person \"\"\"\n",
        "\n",
        "         self.name = name\n",
        "         self.surname = surname\n",
        "         self.id = id\n",
        "\n",
        "     def set_id(self, id):\n",
        "         \"\"\" You need an id or you risk extradition \"\"\"\n",
        "         self.id = id\n",
        "\n",
        "     def get_id(self):\n",
        "         \"\"\" If the police stop you, call this method \"\"\"\n",
        "         return self.id\n",
        "\n",
        "     def introduce_yourself(self):\n",
        "         \"\"\" Get a printable version of this person \"\"\"\n",
        "         greeting = 'Hello!, my name is ' + self.name + ' ' + self.surname\n",
        "         return greeting\n",
        "        \n",
        "```\n",
        "Simple, right? We have created a _base_ class for the concept of \"person\". We could add many more optional or even mandatory arguments to ```Person.__init__()```, for example, an address, a description, height, date of birth, etc; likewise, many more class methods could be added, but these few are enough for our illustrative purposes. With this class we can now create instances, i.e. actual persons:\n",
        "```\n",
        "Bob_Dylan = Person('Robert Allen', 'Zimmerman')\n",
        "```\n",
        "Type in this class (Person), and create a few people instances. If you like, add a few extra attributes to your Person class, or extra-functionality."
      ],
      "metadata": {
        "id": "R7s_fBn2snkO"
      }
    },
    {
      "cell_type": "code",
      "source": [],
      "metadata": {
        "id": "q_e1RtQA9mwM"
      },
      "execution_count": null,
      "outputs": []
    },
    {
      "cell_type": "markdown",
      "source": [
        "So far there is nothing new here; our Person class follows the same pattern as our earlier (simpler classes), but now consider this: a person can have many different occupations, different jobs, e.g. bus driver, rock star, or astronaut (cosmonaut if you prefer). But all these different occupations have a person behind them (well, strictly speaking, Laika was a cosmonaut dog, but I guess that's an exception). What we are getting at is this: all Employees are persons (at least until robots take over), and __inheritance__ is the mechanism that allows us to express this kind of relation between classes. Let's see how, with a _Employee_ class:\n",
        "```\n",
        "class Employee(Person):\n",
        "      \"\"\" a derived class for Employees \"\"\"\n",
        "\n",
        "      def __init__(self, name, surname, job, id='Unknown'):\n",
        "          \"\"\" Create a Employee \"\"\"\n",
        "          \n",
        "          super().__init__(name, surname, id)\n",
        "          self.job = job\n",
        "\n",
        "      def what_do_you_do(self):\n",
        "          \"\"\" this Employee's job \"\"\"\n",
        "          work = 'my job is ' + self.job\n",
        "          return work\n",
        "```\n",
        "Here is the magic of _inheritance_ in action! Did you notice that, while defining the Person class took quite a few lines of code (and that was only a simple example), defining the Employee class took much fewer? Employee inherits from Person; that is what we mean when writing the class statement like  ```class Employee(Person):```. We say that Employee is a _child_ class, or a _derived_ class of Person, while Person is the _parent_ or _base_ class of Employee. Before we continue with the consequences of this, please type in the Employee class:"
      ],
      "metadata": {
        "id": "_vZfzHR096jK"
      }
    },
    {
      "cell_type": "code",
      "source": [],
      "metadata": {
        "id": "FxJXUQgqFbDe"
      },
      "execution_count": null,
      "outputs": []
    },
    {
      "cell_type": "markdown",
      "source": [
        "Now, because Employee derives (or inherits) from Person, every method of Person is also a method of Employee; this mimics reality, right? A Employee is a person, and a person has a name, so a Employee also has a name (even if some Employees feel they are only numbers). This kind of real-life relationship between concepts is expressed in OOP through __inheritance__. Let's see it in action:\n",
        "```\n",
        "JA = Employee('Jose Angel', 'Martin Gago', 'Director of ICMM')\n",
        "print(JA.introduce_yourself() + ' and ' + JA.what_do_you_do())\n",
        "```\n",
        "Do try out this, or some similar example. See how it works!"
      ],
      "metadata": {
        "id": "zC6ltIwrFnft"
      }
    },
    {
      "cell_type": "code",
      "source": [],
      "metadata": {
        "id": "gHHjafr7HWiy"
      },
      "execution_count": null,
      "outputs": []
    },
    {
      "cell_type": "markdown",
      "source": [
        "Now, you may think that this is just a fun thing you can do with OOP and inheritance, but, is it really useful? Well, actually it is very useful. Let's say that somewhere down the line you end up with a number of derived classes from Person, and you create lots of different objects from them. For example you may end up with a class Employee, a child class of Person, and Employee may itself be a base class for different staff levels in a company, from the CEO down to the CEO's chauffeur, each with its own particular methods. Because of the inheritance chain, all these different classes ultimately represent a Person; clear so far?\n",
        "\n",
        "Ok, so let's say that I create a function, instructing one of these objects to do something, e.g. go to sleep. Sleeping is a characteristic that persons have in common, so if the function go_to_sleep() is defined for the base class Person, it will automatically work for all its derived classes, because all those classes are also Person. So these will all work:\n",
        "```\n",
        "go_to_sleep(baby)  # if baby is an object having Person as base class\n",
        "go_to_sleep(boss)  # boss is of class CEO->Employee->Person\n",
        "go_to_sleep(driver) # driver is of class Chauffeur->Employee->Person\n",
        "```\n"
      ],
      "metadata": {
        "id": "1vb6yaCIJRnH"
      }
    },
    {
      "cell_type": "markdown",
      "source": [
        "To put it in simpler terms: go_to_sleep() is a function that takes as argument an object of class Person and makes it sleep. Driver is an object of class Chauffeur, which in turn inherits from the Employee class, and this in turn inherits from Person, so calling go_to_sleep(driver) works because function go_to_sleep() expects an object of class Person.\n",
        "\n",
        "On the other hand, function pay_salary() expects an object of class Employee, so pay_salary(driver) will work; but pay_salary(baby) will not work, because baby is an object of class Person, but not every object of this class belongs to the class Employee.\n",
        "\n",
        "Both go_to_sleep() and pay_salary() could be either stand-alone functions, or could be methods of their respective classes (go_to_sleep() of class Person, pay_salary() of Employee). The effect is the same: you could call go_to_sleep() on any object of class Employee, because it inherits it from its parent class Person; however you could not call pay_salary() on an object of class Person unless the object happens to be also of class Employee. Inheritance is unidirectional, from parent to child.\n",
        "\n",
        "Clear? Maybe you can think of some example where OOP inheritance may be useful in your line of work?"
      ],
      "metadata": {
        "id": "BByBR4gP-_mS"
      }
    },
    {
      "cell_type": "markdown",
      "source": [
        "# Abstract base class\n",
        "\n",
        "There is one final turn of the screw that we can cover concerning inheritance in this short, intensive, Python course: abstract base classes. As usual, the concept is better understood through example. Let's think of an application (perhaps some visualization tool) where we need to define classes to represent different types of geometric shapes, such as squares, rectangles, triangles, or our previously seen circle class for circles. It is obvious that all these shapes have things in common (for example, they all cover a given area), but they are different in the detail. How can we accommodate this kind of relationship with inheritance? The answer is with an _abstract_ base class. Consider this strange-looking class definition:\n",
        "```\n",
        "from abc import ABC, abstractmethod\n",
        "\n",
        "class Shape(ABC):\n",
        "    \n",
        "      @abstractmethod\n",
        "      def area(self):\n",
        "          pass\n",
        "\n",
        "      @abstractmethod\n",
        "      def perimeter(self):\n",
        "          pass\n",
        "```\n",
        "Module _abc_ is part of the Python standard library, and its name stands for \"Abstract Base Classes\", and provides, among other things a class __ABC__ that serves as a base class to any abstract base class one may need to define (this is why our Shape class inherits from it). It also provides the __@abstractmethod__ _decorator_, which here serves to indicate that are undefined (do nothing) in the Shape class, and must be defined in child classes.\n",
        "\n",
        "At first sight it appears to do nothing, and strictly speaking this is true; this class can do nothing; in fact you can't even create objects of it. As usual, don't take my word for it, try it instead:\n",
        "```\n",
        "a = Shape()\n",
        "```\n",
        "and see what you get."
      ],
      "metadata": {
        "id": "uCvh-532vhpy"
      }
    },
    {
      "cell_type": "code",
      "source": [],
      "metadata": {
        "id": "7bjZjF_G1DbK"
      },
      "execution_count": null,
      "outputs": []
    },
    {
      "cell_type": "markdown",
      "source": [
        "However, that doesn't mean the Shape class is useless; indeed, you can have other classes inherit from it; those child classes will be concrete, as opposed to abstract, provided they offer specific implementations of the abstract methods area() and perimeter(). For example, consider our first example of a class above, Circle. Now, taking advantage of Shape, we could define Circle like this:\n",
        "```\n",
        "class Circle(Shape):\n",
        "      \"\"\" Circle is now a child of Shape \"\"\"\n",
        "      \n",
        "      def __init__(self, radius):\n",
        "          \"\"\" Create a Circle object \"\"\"\n",
        "          from math import pi\n",
        "          self.pi = pi # so that we have pi available throughout the Circle object\n",
        "          self.r = radius\n",
        "\n",
        "      def area(self):\n",
        "          \"\"\" This is the concrete method for the area of Circle \"\"\"\n",
        "          s = self.pi * self.r ** 2\n",
        "          return s\n",
        "\n",
        "      def perimeter(self):\n",
        "          \"\"\" This is the concrete method for the perimeter of Circle \"\"\"\n",
        "          p = 2. * self.pi * self.r\n",
        "          return p\n",
        "```\n",
        "As usual, please try it for yoursel!"
      ],
      "metadata": {
        "id": "r09OuTH31F_I"
      }
    },
    {
      "cell_type": "code",
      "source": [],
      "metadata": {
        "id": "49EIHYM55gXY"
      },
      "execution_count": null,
      "outputs": []
    },
    {
      "cell_type": "markdown",
      "source": [
        "Did this make things more efficient or clear? Well, if we only wanted a Circle class, then the answer is \"no\", but if we want more shapes, then the usefulness of abstract class Shape becomes apparent, for now we can do things like this:\n",
        "```\n",
        "class Rectangle(Shape):\n",
        "      \"\"\" Rectangle is also a shape, is it not? \"\"\"\n",
        "\n",
        "      def __init__(self, a, b=None):\n",
        "          \"\"\" if b=None then we have a square, right? \"\"\"\n",
        "          self.a = a\n",
        "          if b is None:\n",
        "             self.b = a\n",
        "          else:\n",
        "             self.b = b\n",
        "\n",
        "      def area(self):\n",
        "          \"\"\" Surely you know what's the area of the rectangle? \"\"\"\n",
        "          s = self.a * self.b\n",
        "          return s\n",
        "\n",
        "      def perimeter(self):\n",
        "          \"\"\" And it's perimeter, uh? \"\"\"\n",
        "          p = 2. * (self.a + self.b)\n",
        "          return p\n",
        "\n",
        "      def is_square(self):\n",
        "          \"\"\" This method does not make sense for Circle, but it does for Rectangle \"\"\"\n",
        "          return self.b == self.a\n",
        "```\n",
        "Note that both Circle and Rectangle share common features; they both define area and perimeter functions, because after all they are Shapes, but each have different expressions of the area and perimeter, so these methods cannot be directly inherited from class Shape. That is why we make Shape an abstract base class, declaring the existence of functions area and perimeter, but we defer to the concrete child classes Circle and Rectangle the implementation of their respective versions of these methods. The reason why is_square() is not also defined as an abstract method in Shape is that this method only makes sense for Rectangle; if it made sense for Circle, we would have achieved the impossible \"quadrature of the circle\"!\n",
        "\n",
        "Try creating this class and some instances of it, and check if they are squares or not. Go on, don't make me repeat myself!"
      ],
      "metadata": {
        "id": "r-4ncRiI5oqZ"
      }
    },
    {
      "cell_type": "code",
      "source": [],
      "metadata": {
        "id": "7c4O4Myl_Q1A"
      },
      "execution_count": null,
      "outputs": []
    },
    {
      "cell_type": "markdown",
      "source": [
        "Well, following the same pattern, we could now go on creating many different types of shapes, like parallepipeds, triangles, pentagons, you name it. We are not going to do it, but you get the idea. What you can do, though, is to consider how abstract base classes, concrete classes, inheritance and OOP in general, can be of use to you in your work. As a final word on all this, consider the built-in functions isinstance(obj,class) and issubclass(class1,class2). Their meaning is kind of obvious, so I'll let you experiment:\n",
        "```\n",
        "c = Circle(4.)\n",
        "r = Rectangle(2., 4.)\n",
        "s = Rectangle(3.)\n",
        "print(isinstance(c, Circle))\n",
        "print(isinstance(s, Rectangle))\n",
        "print(isinstance(r, Circle))\n",
        "print(issubclass(s, Shape))\n",
        "print(s.is_square())\n",
        "```"
      ],
      "metadata": {
        "id": "pQtjWbJ8_Uf_"
      }
    },
    {
      "cell_type": "code",
      "source": [],
      "metadata": {
        "id": "WHDAtMEQCEDh"
      },
      "execution_count": null,
      "outputs": []
    },
    {
      "cell_type": "markdown",
      "source": [
        "# A note on code writing style\n",
        "Even though Python is very flexible, there are several standards in writing style that, though not mandatory, have become widely adopted by the Python developer community, which are not capricious; they have been adopted because once you observe them and get used to them, they help you identify the purpose of different parts of a code quickly. You may observe these standards or not (they are not mandatory), but personal experience shows they are useful. We will not go into details, just mention the most important and common:\n",
        "* Class names should start with a capital (Shape, Circle, Rectangle)\n",
        "* Function names should not contain capitals (area(), is_square()), regardless of wether they are stand-alone functions or class methods. They may contain uderscore(s) but not - (minus) sign.\n",
        "* Never, __NEVER__ use TABS in Python code; always use spaces instead.\n",
        "* Document your code via comments; enough to be clear about what your code is doing, without going over the top (you are not writing literature; leave that for your thesis).\n",
        "* It is recommended to use type-hinting, especially in large coding projects.\n",
        "What is type-hinting? Consider the following function (rather silly, but only for demonstration purposes):\n",
        "```\n",
        "def power(base, exponent):\n",
        "    return base ** exponent\n",
        "```\n",
        "Type hinting would consist of writing it like this:\n",
        "```\n",
        "def power(base: float, exponent: int) -> float:\n",
        "    return base ** exponent\n",
        "```\n",
        "meaning that this function expects the base argument to be of type float, the exponent to be an int, and will return (->) a float as the result. Python completely ignores the hints; they are there for the help of other programmers, or you yourself when you come back to your code after a while, trying to remember what it was that your code did. For the case of the simple function power() it is obviously an overkill, but in bigger projects, with more complex methods and functions this kind of human-meant documentation can be a life-saver.\n",
        "\n",
        "# Final words\n",
        "Python is much more than what we have seen here, and we strongly encourage you to explore it further, as we are convinced that it can be very useful to anyone doing scientific research. Nevertheless, we believe that we have covered the most important bits, and you should now have enough of the basics to move on and explore by yourself.\n",
        "\n",
        "In the next, and final lesson, an introduction to Machine Learning, you will be using much of what you have learnt in these three lessons on Python programming. We hope you have enjoyed it thus far, and also enjoy the next lesson.\n",
        "\n",
        "__Happy Coding!__\n"
      ],
      "metadata": {
        "id": "lY4NuYphCGjY"
      }
    }
  ]
}