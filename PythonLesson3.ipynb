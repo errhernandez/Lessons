{
  "nbformat": 4,
  "nbformat_minor": 0,
  "metadata": {
    "colab": {
      "provenance": []
    },
    "kernelspec": {
      "name": "python3",
      "display_name": "Python 3"
    },
    "language_info": {
      "name": "python"
    }
  },
  "cells": [
    {
      "cell_type": "markdown",
      "source": [
        "Welcome to lesson 3 in this Python course!\n",
        "\n",
        "Just a brief recap of what we've seen thus far. In Lesson 1 we had a general introduction to Python, covering things like syntax, lists, control flow, you know, enough of the basics to get started; in Lesson 2 we introduced some important modules, namely __numpy__, __matplotlib__ and a few others, but we spent most of the time introducting functions and how to use them. Now we take a big step forward and introduce the magic incantation: __Object Oriented Programming__, or OOP for short. You will see that this is a very powerful concept, yet far less mysterious than many people think; if you learn this well and, above all, if you make good use of it, you will be able to show off at parties and people will look at you in awe and admiration 🤣. So, let's jump into it!\n",
        "# Classes, objects and all that\n",
        "In my view, OPP is about creating new data types, data types (reminder, by type we mean things like integer, float or character, i.e. types of variables) which are convenient for you for your particular task. Creating a new data type means creating not just the type itself, but also the kind of operations that that data type can perform. The mechanism for creating a new type is called __class__, so let's see a rather trivial example. Imagine we want to define a type to describe circles, and operations that we can do with circles. We would do something like this:\n",
        "```\n",
        "class circle:\n",
        "    \"\"\" this class defines a basic circle \"\"\"\n",
        "\n",
        "    def __init__(self, radius):\n",
        "        \"\"\" create a circle of given radius \"\"\"\n",
        "        self.r = radius\n",
        "\n",
        "    def radius(self):\n",
        "        \"\"\" return my radius \"\"\"\n",
        "        return self.r\n",
        "```\n",
        "I'll explain below what this is doing, but before we get to that, just make sure you type this class into the next cell.\n"
      ],
      "metadata": {
        "id": "0MD2p3YI6gzT"
      }
    },
    {
      "cell_type": "code",
      "execution_count": null,
      "metadata": {
        "id": "oXvoAvrK6PNX"
      },
      "outputs": [],
      "source": []
    },
    {
      "cell_type": "markdown",
      "source": [
        "Right, let's go over this bit of code: first, the text appearing between two sets of three double quotes is a comment; we already saw how to use the hash for simple comments; the advantage of doing it this way is that comments can extend over several lines, provided those lines appear between two pairs of ```\"\"\"```. We start the class definition with the command __class__ and a name (circle in this example), and in the body of the class we define functions that operate on _instances_ or _objects_ of the class. Once my class is defined, I can create particular instances (objects) of it, in this case I can create individual circles. Still with me? If you are confused, just think about 1, 2, 3: they are all particular instances of the class _integer_; all we have done is create a new type to represent circles rather than integers.\n",
        "\n",
        "Let's now see the function definitions inside the class. The first one is a special kind of function, and that is why it's name is surrounded by two underscores on either side (```__init___```). As its name indicates, this function creates or initialises a new instance of the class circle. It takes two arguments, the radius (how big the circle is); the other variable, _self_, you don't need to worry about: it refers to the object being created _itself_, i.e. to the new circle object. The function takes the value of the argument _radius_, and assigns it to a class variable, self.r.\n",
        "\n",
        "The other function, _radius(self)_ is there to inform us of the radius of the circle we just created.\n",
        "Good! Well, now we have a new class of objects of type _circle_. Let's create a few of them and see:\n",
        "```\n",
        "small_circle = circle(1.)\n",
        "big_circle = circle(50.)\n",
        "small_circle.radius()\n",
        "big_circle.radius()\n",
        "```"
      ],
      "metadata": {
        "id": "jxJadTNzBpP6"
      }
    },
    {
      "cell_type": "code",
      "source": [],
      "metadata": {
        "id": "xwBPZ30nCO0b"
      },
      "execution_count": null,
      "outputs": []
    },
    {
      "cell_type": "markdown",
      "source": [
        "You get the idea, right? Note that in creating small_circle and big_circle we did not need to call ```__init__``` explicitly; just using the name of the class (circle) and the list of arguments of ```__init__``` does it automatically for you; nor do you need to provide a value for the self argument (that is the object being created itself).\n",
        "\n",
        "Once we have created an instance of the circle class, we can ask for its radius calling its _radius()_ method. Notice that this is not a special function (it is not surrounded by double underscores), it is just a method that we define for our convenience. Notice also that we call this function (method) without arguments even if when we defined it in the class it had the argument _self_. When we write ```small_circle.radius()```, self is refering to the particular object small_circle.\n",
        "\n",
        "Admittedly our class circle is not very useful. Let's give it a bit more functionality:\n",
        "```\n",
        "class circle:\n",
        "    \"\"\" this class defines a basic circle \"\"\"\n",
        "\n",
        "    def __init__(self, radius):\n",
        "        \"\"\" create a circle of given radius \"\"\"\n",
        "        self.r = radius\n",
        "\n",
        "    def radius(self):\n",
        "        \"\"\" return my radius \"\"\"\n",
        "        return self.r\n",
        "\n",
        "    def perimeter(self):\n",
        "        \"\"\" calculates the perimeter \"\"\"\n",
        "        from math import pi\n",
        "        p = 2. * pi * self.r\n",
        "        return p\n",
        "\n",
        "    def area(self):\n",
        "        \"\"\" calculates the area \"\"\"\n",
        "        from math import pi\n",
        "        a = pi * self.r ** 2\n",
        "        return a\n",
        "```\n",
        "Still not very useful (only as an example), but at least now given an object of the class circle you can ask for its perimeter and its area (as well as its radius). Do try it out!"
      ],
      "metadata": {
        "id": "wHWzYP0kINtW"
      }
    },
    {
      "cell_type": "code",
      "source": [],
      "metadata": {
        "id": "uyYXDYqYP605"
      },
      "execution_count": null,
      "outputs": []
    }
  ]
}