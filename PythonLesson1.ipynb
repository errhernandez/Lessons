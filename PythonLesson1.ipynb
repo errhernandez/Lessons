{
 "cells": [
  {
   "cell_type": "markdown",
   "id": "080e3e60-0e03-4864-aec6-719978e6edfd",
   "metadata": {},
   "source": [
    "# First steps\n",
    "\n",
    "We are going to start simple. In the next cell, type this:\n",
    "\n",
    "2 + 2\n",
    "\n",
    "Then press Shift+Enter. If you get anything other than \"4\", then we are in serious trouble!"
   ]
  },
  {
   "cell_type": "code",
   "execution_count": null,
   "id": "861ff806-89fa-436f-8224-c9d3cec2b6c6",
   "metadata": {},
   "outputs": [],
   "source": []
  },
  {
   "cell_type": "markdown",
   "id": "460a2a22-8fd7-4fc4-a51f-dba80cca78f8",
   "metadata": {},
   "source": [
    "Pressing Shift+Enter executes the cell and prints the result (that's how you do it from now on). What you did above was to use Python as a pocket calculator, and it can be useful that way, but of course it can do much more complicated things than that. But before we get into complicated things, let's stay with the simple for a little longer. In the next cell try this:\n",
    "\n",
    "5/2\n",
    "\n",
    "Then Shift+Enter as before."
   ]
  },
  {
   "cell_type": "code",
   "execution_count": null,
   "id": "1f279e51-9cc7-4dde-8e42-f1e48e45b847",
   "metadata": {},
   "outputs": [],
   "source": []
  },
  {
   "cell_type": "markdown",
   "id": "713f017e-71e3-4f98-90fb-71ef0249ce2a",
   "metadata": {},
   "source": [
    "You'll notice that even though the numerator and denominator above are integers, the result you got is a float (2.5). Division always returns a float; if you want integer division, try this:\n",
    "\n",
    "5//2\n",
    "\n",
    "What do you get this time?"
   ]
  },
  {
   "cell_type": "code",
   "execution_count": null,
   "id": "b3f3cf5b-09a8-424a-8621-8010b726cf3e",
   "metadata": {},
   "outputs": [],
   "source": []
  },
  {
   "cell_type": "markdown",
   "id": "ad470dac-b0bf-4bb7-997c-4ce8c3b8fa33",
   "metadata": {},
   "source": [
    "In Python you have the usual numerical types, namely integer and float; there is also some support for complex numbers in standard Python, but we will deal with numerics in the next lesson.\n",
    "\n",
    "As well as numerical types, there are characters and strings. Anything that comes enclosed in single (') or double (\") quotes is understood to be a string, and a string is nothing but a concatenation of characters. Single and double quotes must be used consistently (don't mix them).\n",
    "\n",
    "In the next cell, type (and execute)\n",
    "\n",
    "\"Welcome to Python!\"\n",
    "\n",
    "or, if you prefer\n",
    "\n",
    "'Welcome to Python!'"
   ]
  },
  {
   "cell_type": "code",
   "execution_count": null,
   "id": "df93cdee-052c-4199-8297-c74b245ae935",
   "metadata": {},
   "outputs": [],
   "source": []
  },
  {
   "cell_type": "markdown",
   "id": "02e96528-1069-4543-8634-51c45bae8404",
   "metadata": {},
   "source": [
    "# Containers\n",
    "The previous item allowed us to introduce a very important (and useful) concept: that of a _container_, of which there are several kinds, which we will cover below. But before we get to that, there are a few more things to learn about strings. For example, we can find out how long they are:\n",
    "\n",
    "len(\"Welcome to Python!\")\n",
    "\n",
    "Try it!"
   ]
  },
  {
   "cell_type": "code",
   "execution_count": null,
   "id": "a93294e7-ef18-4e3c-96dd-bc1a1e200b0c",
   "metadata": {},
   "outputs": [],
   "source": []
  },
  {
   "cell_type": "markdown",
   "id": "8a659639-b413-4776-b7e9-d97eab3738e4",
   "metadata": {},
   "source": [
    "Of course, if every time we wanted to do something with the string \"Welcome to Python!\" we had to type it in full, like above, it would be tedious and error prone. So, let's bring in assignment. We can assign the string \"Welcome to Python!\" to a variable, which is equivalent to giving it a name. Let's call it \"phrase\" (or whatever else you want):\n",
    "\n",
    "phrase = \"Welcome to Python!\"\n",
    "\n",
    "Try it!"
   ]
  },
  {
   "cell_type": "code",
   "execution_count": null,
   "id": "01cfa4b2-44f6-4cbb-9c18-f1000ff4a752",
   "metadata": {},
   "outputs": [],
   "source": []
  },
  {
   "cell_type": "markdown",
   "id": "b5f76b77-3937-47f6-8018-59298474f602",
   "metadata": {},
   "source": [
    "When you executed that line apparently nothing happened, but behind the scenes, the variable phrase was assigned the value \"Welcome to Python!\", meaning that now we can use it in place of the entire string. For example, type each of the following lines in a cell and execute them.\n"
   ]
  },
  {
   "cell_type": "raw",
   "id": "d5f3cce1",
   "metadata": {
    "vscode": {
     "languageId": "raw"
    }
   },
   "source": [
    "len(phrase)\n",
    "phrase[11:17]"
   ]
  },
  {
   "cell_type": "code",
   "execution_count": null,
   "id": "afdd6b4a-e36f-4bf9-a853-c1863db3218d",
   "metadata": {},
   "outputs": [],
   "source": []
  },
  {
   "cell_type": "markdown",
   "id": "05adb4ae-0edf-47f3-bafe-86701878b8bc",
   "metadata": {},
   "source": [
    "We can also ask if a certain combination of characters exists in a tring:\n",
    "\n",
    "print('Python' in phrase)\n",
    "\n",
    "Try it."
   ]
  },
  {
   "cell_type": "code",
   "execution_count": null,
   "id": "38ecd653-2c0d-40fd-bec8-6a6c3530cf79",
   "metadata": {},
   "outputs": [],
   "source": []
  },
  {
   "cell_type": "markdown",
   "id": "56d6e25b-c66a-4447-ad51-acb52275f06f",
   "metadata": {},
   "source": [
    "\"'Python' in phrase\" is an example of a conditional expression, i.e. an expression that evaluates to either True or False. We will see more examples of this below.\n",
    "\n",
    "Finally, something else we can do with strings: we can split them:\n"
   ]
  },
  {
   "cell_type": "raw",
   "id": "05ac24ce",
   "metadata": {
    "vscode": {
     "languageId": "raw"
    }
   },
   "source": [
    "words = phrase.split()\n",
    "print(words)"
   ]
  },
  {
   "cell_type": "markdown",
   "id": "371e2349",
   "metadata": {},
   "source": [
    "\n",
    "Now you try."
   ]
  },
  {
   "cell_type": "code",
   "execution_count": null,
   "id": "c68febeb-15d2-43dd-b741-6fc2826066b0",
   "metadata": {},
   "outputs": [],
   "source": []
  },
  {
   "cell_type": "markdown",
   "id": "e6fa164f-2b4e-45f5-a28a-aaf0bb7f4287",
   "metadata": {},
   "source": [
    "The string method split() by default splits a string at empty spaces, but you can also use it to split using other markers, such as punctuation marks. For example:\n"
   ]
  },
  {
   "cell_type": "raw",
   "id": "96644989",
   "metadata": {
    "vscode": {
     "languageId": "raw"
    }
   },
   "source": [
    "another_phrase = 'I like pears, but I like apples best!' \n",
    "parts = another_phrase.split(',') \n",
    "print(parts)"
   ]
  },
  {
   "cell_type": "markdown",
   "id": "78c508a8",
   "metadata": {},
   "source": [
    "\n",
    "Go ahead and try it."
   ]
  },
  {
   "cell_type": "code",
   "execution_count": null,
   "id": "1e6a0cad-a6c6-45c7-b64e-33a17ad068f4",
   "metadata": {},
   "outputs": [],
   "source": []
  },
  {
   "cell_type": "markdown",
   "id": "ea99a223-98cd-4b6a-849c-71c21902ce3e",
   "metadata": {},
   "source": [
    "We are jumping ahead here, but string is an example of what is called a class (more about classes in Lesson 3), a key concept in Object Oriented Programming (OOP). You can think of a class as an extension of the type (e.g. the integer type, or the float type in the case of numbers). The variable phrase above is an object of the class string, and split() is a function of the class, i.e. a function that applies to string objects, splitting them as we have seen in the previous cells. Functions of a class are called class methods. There you are, a bit of jargon for you. We will see more on functions in Lesson 2, and more about OPP in Lesson 3, but don't worry, this sounds complicated but it is not.\n",
    "\n",
    "# Lists\n",
    "\n",
    "The split method allows us to introduce a new concept in Python. Notice how when we called the split method on variable phrase we got back a list of its words encapsulated in squared brackets, with each item in the list separated by commas. Lists are ubiquitous in Python, and they are very useful. Just like we did with strings, we can query a list for its length with the len() built-in python function. We can print out (or assign to a variable) some of its contents, like we did when typing phrase[11:17].\n",
    "\n",
    "Lists can contain anything; their contents don't need to be all of the same kind, e.g.:\n",
    "\n",
    "saying = [3.14, 'in', 'the', 'Sky']\n",
    "\n",
    "What we did here was to assign a list (its contents in the squared brackets) to a variable, saying. Try finding out the length of this list with what you now know."
   ]
  },
  {
   "cell_type": "code",
   "execution_count": null,
   "id": "7c525d2f-32c6-438a-9dbe-ee6dcfa9a910",
   "metadata": {},
   "outputs": [],
   "source": []
  },
  {
   "cell_type": "markdown",
   "id": "6c66fb5b-894c-474f-a687-566b21e80524",
   "metadata": {},
   "source": [
    "Note that when creating the list 'saying', we made sure that its contents are separated by commas, and that those items that are strings are enclosed in quotes (single, in this case).\n",
    "\n",
    "Lists are just one of several types of 'containers', things that contain other things, that are available in Python. Unlike strings, lists are mutable, meaning that we can change them:\n",
    "\n",
    "saying[3] = 'Sea'\n",
    "\n",
    "After that, type print(saying). See what happens when you do that."
   ]
  },
  {
   "cell_type": "code",
   "execution_count": null,
   "id": "e09748f2-ed78-435e-9f05-4bf13b7c9c81",
   "metadata": {},
   "outputs": [],
   "source": []
  },
  {
   "cell_type": "markdown",
   "id": "50399d7e-aaa9-44e2-bfe8-c2c86a581a8a",
   "metadata": {},
   "source": [
    "Tuples are another type of container; they are similar to lists, except that they are unmutable (they cannot be changed). You specify a tuple with round brackets rather than squared. Try typing this:\n",
    "\n",
    "truth = ('Truth', 'is', 'unmutable')\n",
    "\n",
    "And then this:\n",
    "\n",
    "truth[2] = 'False'\n",
    "\n",
    "See what happens."
   ]
  },
  {
   "cell_type": "code",
   "execution_count": null,
   "id": "99dab5d6-1067-438b-8d0b-c19a9b802738",
   "metadata": {},
   "outputs": [],
   "source": []
  },
  {
   "cell_type": "markdown",
   "id": "bd495ca3-3260-4d6a-959a-0e63cb47f69b",
   "metadata": {},
   "source": [
    "I told you! Tuples are unmutable. You can define a new one, but you cannot change an existing one. And by the way, if you haven't noticed already, this is also the case with strings, they are unmutable.\n",
    "\n",
    "Let's go back to lists, because we haven't finished with them yet. Just like with numbers, we can also do certain operations with lists. For example, try this:\n"
   ]
  },
  {
   "cell_type": "raw",
   "id": "0c130304",
   "metadata": {
    "vscode": {
     "languageId": "raw"
    }
   },
   "source": [
    "who = \"Humpty Dumpty \"\n",
    "what = \"sat on the wall\"\n",
    "phrase = who + what\n",
    "print(phrase)"
   ]
  },
  {
   "cell_type": "code",
   "execution_count": null,
   "id": "e34cc5bd-c25d-487e-939e-eae333ec695a",
   "metadata": {},
   "outputs": [],
   "source": []
  },
  {
   "cell_type": "markdown",
   "id": "f6251bd9-32a5-407d-86ed-96b6bcd79046",
   "metadata": {},
   "source": [
    "# Loops\n",
    "\n",
    "A key ingredient in any programming language is loops, which provide a way of repeating the same type of operation on different items. There are several ways to perform loops. For example, imagine that we wanted to loop over all the words in phrase, printing each one of them in a separate line. We would do something like this:\n"
   ]
  },
  {
   "cell_type": "raw",
   "id": "7654cdb9",
   "metadata": {
    "vscode": {
     "languageId": "raw"
    }
   },
   "source": [
    "for word in phrase.split(): \n",
    "    print(word)"
   ]
  },
  {
   "cell_type": "markdown",
   "id": "fb6123cb",
   "metadata": {},
   "source": [
    "\n",
    "Notice the indentation of the second line. This is important, as we will see below. Type it and see what happens."
   ]
  },
  {
   "cell_type": "code",
   "execution_count": null,
   "id": "ff887c65-83ce-4393-974f-b355f5c93f7d",
   "metadata": {},
   "outputs": [],
   "source": []
  },
  {
   "cell_type": "markdown",
   "id": "e3d46ad2-beb5-4a70-8470-1e399aacb379",
   "metadata": {},
   "source": [
    "In other programming languages loops are typically encapsulated (e.g. in curly braces such as in C and C++, or in do and end do statements in Fortran). Not in Python; in Python we use indentation to delimit the scope of a loop (and of flow control, comming up next). The number of indentation spaces is arbitrary, but has to be at least 1. To understand this, compare the previous result with the result of this:\n"
   ]
  },
  {
   "cell_type": "raw",
   "id": "ee744b96",
   "metadata": {
    "vscode": {
     "languageId": "raw"
    }
   },
   "source": [
    "for word in phrase.split(): \n",
    "    pass \n",
    "print(word)"
   ]
  },
  {
   "cell_type": "code",
   "execution_count": null,
   "id": "fbed510b-02ab-45dc-b8c0-03ac99dd2493",
   "metadata": {},
   "outputs": [],
   "source": []
  },
  {
   "cell_type": "markdown",
   "id": "e2939b53-6ad8-4b29-a188-fad3ed5f963a",
   "metadata": {},
   "source": [
    "The command _pass_ does nothing, but is necessary above because a _for loop_ expects to do something; if we left the line empty we would get an error (you can try it). \n",
    "\n",
    "The _for loop_ can be used to create a list; this is what is called a _list comprehension_\n"
   ]
  },
  {
   "cell_type": "raw",
   "id": "0ed7757a",
   "metadata": {
    "vscode": {
     "languageId": "raw"
    }
   },
   "source": [
    "numbers = [i for i in range(10)]\n",
    "print(numbers)"
   ]
  },
  {
   "cell_type": "markdown",
   "id": "e0f87466",
   "metadata": {},
   "source": [
    "\n",
    "What are you waiting for? Go ahead and try it!"
   ]
  },
  {
   "cell_type": "code",
   "execution_count": null,
   "id": "67635f20-310d-402f-ac79-89f1514601d0",
   "metadata": {},
   "outputs": [],
   "source": []
  },
  {
   "cell_type": "markdown",
   "id": "4ec77a0d-5211-4e2b-b71e-32dd821bdc95",
   "metadata": {},
   "source": [
    "Above, the range command returns a range of integers; notice how the counter starts at zero and goes up to n-1 (in this case 10-1=9).\n",
    "\n",
    "Another useful way to perform a loop is provided by the enumerate command. Rather than explaining what this does, let us illustrate how it works:\n"
   ]
  },
  {
   "cell_type": "raw",
   "id": "053711de",
   "metadata": {
    "vscode": {
     "languageId": "raw"
    }
   },
   "source": [
    "for n, number in enumerate(numbers): \n",
    "    print(n, number)"
   ]
  },
  {
   "cell_type": "markdown",
   "id": "a7420ad4",
   "metadata": {},
   "source": [
    "\n",
    "Do we still need to tell you what you have to do now? ;-)"
   ]
  },
  {
   "cell_type": "code",
   "execution_count": null,
   "id": "d787ba51-2511-42a7-977b-8a55b4be2bd3",
   "metadata": {},
   "outputs": [],
   "source": []
  },
  {
   "cell_type": "markdown",
   "id": "02520e5d-fa49-4c27-ace5-615c940c08de",
   "metadata": {},
   "source": [
    "Another useful way to do loops is with _while_:\n"
   ]
  },
  {
   "cell_type": "raw",
   "id": "0920471f",
   "metadata": {
    "vscode": {
     "languageId": "raw"
    }
   },
   "source": [
    "number = 10\n",
    "more_numbers = []\n",
    "while number < 20:\n",
    "    more_numbers.append(number)\n",
    "    number += 1\n",
    "\n",
    "print(more_numbers)"
   ]
  },
  {
   "cell_type": "code",
   "execution_count": null,
   "id": "5dc3f4af-aef1-41da-b0ea-5a3492e18c0f",
   "metadata": {},
   "outputs": [],
   "source": []
  },
  {
   "cell_type": "markdown",
   "id": "34b2e4f2-1244-4ce6-b733-85d3093d2c3b",
   "metadata": {},
   "source": [
    "There are several new things to notice here: first, note how we initialise an empty list (more_numbers) with a pair of squared brackets enclosing nothing; also there is a new method of the list class, _append_, which, as its name indicates, appends a new item at the end of the list it is applied to; finally, notice how we initialised a counter, _number_, and every time we go through the loop we add a 1 to it with the line _number += 1_. Think about what would happen if we forgot to add 1 to the number counter; what would we get at the end?\n",
    "\n",
    "# Flow control\n",
    "\n",
    "The _while_ command we saw in the previous cell is an example of a command providing flow control, i.e. controlling what to do when different things happen in the code. In that case, while the counter was less than 20 we kept going appending to more_numbers and increasing the counter, otherwise the job was done. \n",
    "\n",
    "Another classic of control flow is the _if-then-else_ construct, which you might be familiar with from other programming languages. In Python it has the following structure:\n"
   ]
  },
  {
   "cell_type": "raw",
   "id": "ac9ecdd2",
   "metadata": {
    "vscode": {
     "languageId": "raw"
    }
   },
   "source": [
    "if condition_1:\n",
    "   do something\n",
    "elif condition_2:\n",
    "   do something else\n",
    "else:\n",
    "   do some other thing"
   ]
  },
  {
   "cell_type": "markdown",
   "id": "e4daa8a8",
   "metadata": {},
   "source": [
    "\n",
    "(notice the funny syntax of the second case: it's _elif_, not _else if_)\n",
    "\n",
    "Let's try this out:\n"
   ]
  },
  {
   "cell_type": "raw",
   "id": "05a71291",
   "metadata": {
    "vscode": {
     "languageId": "raw"
    }
   },
   "source": [
    "many_numbers = numbers + more_numbers\n",
    "\n",
    "for number in many_numbers:\n",
    "    if number < 10:\n",
    "       print(f'{number} is less than 10')\n",
    "    elif number >= 10 and number < 15:\n",
    "       print(f'{number} is between 10 and 15')\n",
    "    else:\n",
    "       print(f'{number} is equal or greater than 15')"
   ]
  },
  {
   "cell_type": "markdown",
   "id": "e5670801",
   "metadata": {},
   "source": [
    "\n",
    "Are you waiting for my beard to grow or what?"
   ]
  },
  {
   "cell_type": "code",
   "execution_count": null,
   "id": "810db0ef-1e2e-4bf9-bb4f-21febd628bb3",
   "metadata": {},
   "outputs": [],
   "source": []
  },
  {
   "cell_type": "markdown",
   "id": "a4a84173-68c0-4ccb-8e89-2790a9c95be3",
   "metadata": {},
   "source": [
    "Things to notice here: first note how we combined the arrays _numbers_ and _more_numbers_ into a new one, _many_numbers_; another thing to notice is how we write _conditions_; in Python a condition is an expression that evaluates to True or False, and in this case, because we are checking conditions on numerical values we can use equality and inequality symbols (=, <, >, >=, etc).\n",
    "\n",
    "Finally, another thing to notice is how we have written the print statements this time: we have used what are called _f-strings_, so called because they begin with an _f_ followed by a usual string, but inside that string variables that are enclosed by curly braces ({}) are substituted by their value when the print statement is executed. Nice, isn't it?"
   ]
  }
 ],
 "metadata": {
  "kernelspec": {
   "display_name": "Python 3 (ipykernel)",
   "language": "python",
   "name": "python3"
  },
  "language_info": {
   "codemirror_mode": {
    "name": "ipython",
    "version": 3
   },
   "file_extension": ".py",
   "mimetype": "text/x-python",
   "name": "python",
   "nbconvert_exporter": "python",
   "pygments_lexer": "ipython3",
   "version": "3.11.4"
  }
 },
 "nbformat": 4,
 "nbformat_minor": 5
}
