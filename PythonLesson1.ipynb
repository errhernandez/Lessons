{
  "cells": [
    {
      "cell_type": "markdown",
      "id": "080e3e60-0e03-4864-aec6-719978e6edfd",
      "metadata": {
        "id": "080e3e60-0e03-4864-aec6-719978e6edfd"
      },
      "source": [
        "# First steps\n",
        "\n",
        "We are going to start simple. In the next cell, type this:\n",
        "\n",
        "2 + 2\n",
        "\n",
        "Then press Shift+Enter. If you get anything other than \"4\", then we are in serious trouble!"
      ]
    },
    {
      "cell_type": "code",
      "execution_count": null,
      "id": "861ff806-89fa-436f-8224-c9d3cec2b6c6",
      "metadata": {
        "id": "861ff806-89fa-436f-8224-c9d3cec2b6c6"
      },
      "outputs": [],
      "source": []
    },
    {
      "cell_type": "markdown",
      "id": "460a2a22-8fd7-4fc4-a51f-dba80cca78f8",
      "metadata": {
        "id": "460a2a22-8fd7-4fc4-a51f-dba80cca78f8"
      },
      "source": [
        "Pressing Shift+Enter executes the cell and prints the result (that's how you do it from now on). What you did above was to use Python as a pocket calculator, and it can be useful that way, but of course it can do much more complicated things than that. But before we get into complicated things, let's stay with the simple for a little longer. In the next cell try this:\n",
        "\n",
        "5/2\n",
        "\n",
        "Then Shift+Enter as before."
      ]
    },
    {
      "cell_type": "code",
      "execution_count": null,
      "id": "1f279e51-9cc7-4dde-8e42-f1e48e45b847",
      "metadata": {
        "id": "1f279e51-9cc7-4dde-8e42-f1e48e45b847"
      },
      "outputs": [],
      "source": []
    },
    {
      "cell_type": "markdown",
      "id": "713f017e-71e3-4f98-90fb-71ef0249ce2a",
      "metadata": {
        "id": "713f017e-71e3-4f98-90fb-71ef0249ce2a"
      },
      "source": [
        "You'll notice that even though the numerator and denominator above are integers, the result you got is a float (2.5). Division always returns a float; if you want integer division, try this:\n",
        "\n",
        "5//2\n",
        "\n",
        "What do you get this time?"
      ]
    },
    {
      "cell_type": "code",
      "execution_count": null,
      "id": "b3f3cf5b-09a8-424a-8621-8010b726cf3e",
      "metadata": {
        "id": "b3f3cf5b-09a8-424a-8621-8010b726cf3e"
      },
      "outputs": [],
      "source": []
    },
    {
      "cell_type": "markdown",
      "id": "ad470dac-b0bf-4bb7-997c-4ce8c3b8fa33",
      "metadata": {
        "id": "ad470dac-b0bf-4bb7-997c-4ce8c3b8fa33"
      },
      "source": [
        "In Python you have the usual numerical types, namely integer and float; there is also some support for complex numbers in standard Python, but we will deal with numerics in the next lesson.\n",
        "\n",
        "As well as numerical types, there are characters and strings. Anything that comes enclosed in single (') or double (\") quotes is understood to be a string, and a string is nothing but a concatenation of characters. Single and double quotes must be used consistently (don't mix them).\n",
        "\n",
        "In the next cell, type (and execute)\n",
        "```\n",
        "\"Welcome to Python!\"\n",
        "```\n",
        "or, if you prefer\n",
        "```\n",
        "'Welcome to Python!'\n",
        "```"
      ]
    },
    {
      "cell_type": "code",
      "execution_count": null,
      "id": "df93cdee-052c-4199-8297-c74b245ae935",
      "metadata": {
        "id": "df93cdee-052c-4199-8297-c74b245ae935"
      },
      "outputs": [],
      "source": []
    },
    {
      "cell_type": "markdown",
      "id": "02e96528-1069-4543-8634-51c45bae8404",
      "metadata": {
        "id": "02e96528-1069-4543-8634-51c45bae8404"
      },
      "source": [
        "# Containers\n",
        "The previous item allowed us to introduce a very important (and useful) concept: that of a _container_, of which there are several kinds, which we will cover below. But before we get to that, there are a few more things to learn about strings. For example, we can find out how long they are:\n",
        "```\n",
        "len(\"Welcome to Python!\")\n",
        "```\n",
        "Try it!"
      ]
    },
    {
      "cell_type": "code",
      "execution_count": null,
      "id": "a93294e7-ef18-4e3c-96dd-bc1a1e200b0c",
      "metadata": {
        "id": "a93294e7-ef18-4e3c-96dd-bc1a1e200b0c"
      },
      "outputs": [],
      "source": []
    },
    {
      "cell_type": "markdown",
      "id": "8a659639-b413-4776-b7e9-d97eab3738e4",
      "metadata": {
        "id": "8a659639-b413-4776-b7e9-d97eab3738e4"
      },
      "source": [
        "Of course, if every time we wanted to do something with the string \"Welcome to Python!\" we had to type it in full, like above, it would be tedious and error prone. So, let's bring in assignment. We can assign the string \"Welcome to Python!\" to a variable, which is equivalent to giving it a name. Let's call it \"phrase\" (or whatever else you want):\n",
        "```\n",
        "phrase = \"Welcome to Python!\"\n",
        "```\n",
        "Try it!"
      ]
    },
    {
      "cell_type": "code",
      "execution_count": null,
      "id": "01cfa4b2-44f6-4cbb-9c18-f1000ff4a752",
      "metadata": {
        "id": "01cfa4b2-44f6-4cbb-9c18-f1000ff4a752"
      },
      "outputs": [],
      "source": []
    },
    {
      "cell_type": "markdown",
      "id": "b5f76b77-3937-47f6-8018-59298474f602",
      "metadata": {
        "id": "b5f76b77-3937-47f6-8018-59298474f602"
      },
      "source": [
        "When you executed that line apparently nothing happened, but behind the scenes, the variable phrase was assigned the value \"Welcome to Python!\", meaning that now we can use it in place of the entire string. For example, type each of the following lines in a cell and execute them.\n",
        "```\n",
        "len(phrase)\n",
        "phrase[11:17]\n",
        "```"
      ]
    },
    {
      "cell_type": "code",
      "execution_count": null,
      "id": "afdd6b4a-e36f-4bf9-a853-c1863db3218d",
      "metadata": {
        "id": "afdd6b4a-e36f-4bf9-a853-c1863db3218d"
      },
      "outputs": [],
      "source": []
    },
    {
      "cell_type": "markdown",
      "id": "ae7bc529",
      "metadata": {
        "id": "ae7bc529"
      },
      "source": [
        "The construction phrase[11:17] is an example of what is called _slicing_; when we have a list (see below), or as in this case, a string, we can get parts of it. Here we are asking for the elements 12 to 18 of the string _phrase_ (indexing starts at 0, right?). Indexing is a related concept: if I only wanted the sixth character of phrase, I would get it by typing phrase[5]. Indexing can be negative: for example, if we type phrase[-1] we would get '!', i.e. the last character in the string. Finally, if I wanted the first five characters, I would write phrase[:5], and if I only wanted those from the fifth up to the end, phrase[5:]. I suggest you experiment with indexing and slicing in the next cell!  "
      ]
    },
    {
      "cell_type": "code",
      "execution_count": null,
      "id": "61a49ed9",
      "metadata": {
        "id": "61a49ed9"
      },
      "outputs": [],
      "source": []
    },
    {
      "cell_type": "markdown",
      "id": "05adb4ae-0edf-47f3-bafe-86701878b8bc",
      "metadata": {
        "id": "05adb4ae-0edf-47f3-bafe-86701878b8bc"
      },
      "source": [
        "We can also ask if a certain combination of characters exists in a tring:\n",
        "```\n",
        "print('Python' in phrase)\n",
        "```\n",
        "Try it."
      ]
    },
    {
      "cell_type": "code",
      "execution_count": null,
      "id": "38ecd653-2c0d-40fd-bec8-6a6c3530cf79",
      "metadata": {
        "id": "38ecd653-2c0d-40fd-bec8-6a6c3530cf79"
      },
      "outputs": [],
      "source": []
    },
    {
      "cell_type": "markdown",
      "id": "56d6e25b-c66a-4447-ad51-acb52275f06f",
      "metadata": {
        "id": "56d6e25b-c66a-4447-ad51-acb52275f06f"
      },
      "source": [
        "\"'Python' in phrase\" is an example of a conditional expression, i.e. an expression that evaluates to either True or False. We will see more examples of this below.\n",
        "\n",
        "Finally, something else we can do with strings: we can split them:\n",
        "```\n",
        "words = phrase.split()\n",
        "print(words)\n",
        "```\n",
        "Now you try it!"
      ]
    },
    {
      "cell_type": "code",
      "execution_count": null,
      "id": "c68febeb-15d2-43dd-b741-6fc2826066b0",
      "metadata": {
        "id": "c68febeb-15d2-43dd-b741-6fc2826066b0"
      },
      "outputs": [],
      "source": []
    },
    {
      "cell_type": "markdown",
      "id": "e6fa164f-2b4e-45f5-a28a-aaf0bb7f4287",
      "metadata": {
        "id": "e6fa164f-2b4e-45f5-a28a-aaf0bb7f4287"
      },
      "source": [
        "The string method split() by default splits a string at empty spaces, but you can also use it to split using other markers, such as punctuation marks. For example:\n",
        "\n",
        "```\n",
        "another_phrase = 'I like pears, but I like apples best!'\n",
        "parts = another_phrase.split(',')\n",
        "print(parts)\n",
        "```"
      ]
    },
    {
      "cell_type": "code",
      "execution_count": null,
      "id": "1e6a0cad-a6c6-45c7-b64e-33a17ad068f4",
      "metadata": {
        "id": "1e6a0cad-a6c6-45c7-b64e-33a17ad068f4"
      },
      "outputs": [],
      "source": []
    },
    {
      "cell_type": "markdown",
      "id": "ea99a223-98cd-4b6a-849c-71c21902ce3e",
      "metadata": {
        "id": "ea99a223-98cd-4b6a-849c-71c21902ce3e"
      },
      "source": [
        "We are jumping ahead here, but string is an example of what is called a class (more about classes in Lesson 3), a key concept in Object Oriented Programming (OOP). You can think of a class as an extension of the type (e.g. the integer type, or the float type in the case of numbers). The variable phrase above is an object of the class string, and split() is a function of the class, i.e. a function that applies to string objects, splitting them as we have seen in the previous cells. Functions of a class are called class methods. There you are, a bit of jargon for you. We will see more on functions in Lesson 2, and more about OPP in Lesson 3, but don't worry, this sounds complicated but it is not.\n",
        "\n",
        "# Lists\n",
        "\n",
        "The split method allows us to introduce a new concept in Python. Notice how when we called the split method on variable phrase we got back a list of its words encapsulated in squared brackets, with each item in the list separated by commas. Lists are ubiquitous in Python, and they are very useful. Just like we did with strings, we can query a list for its length with the len() built-in python function. We can print out (or assign to a variable) some of its contents, like we did when typing phrase[11:17].\n",
        "\n",
        "Lists can contain anything; their contents don't need to be all of the same kind, e.g.:\n",
        "```\n",
        "saying = [3.14, 'in', 'the', 'Sky']\n",
        "```\n",
        "What we did here was to assign a list (its contents in the squared brackets) to a variable, saying. Try finding out the length of this list with what you now know."
      ]
    },
    {
      "cell_type": "code",
      "execution_count": null,
      "id": "7c525d2f-32c6-438a-9dbe-ee6dcfa9a910",
      "metadata": {
        "id": "7c525d2f-32c6-438a-9dbe-ee6dcfa9a910"
      },
      "outputs": [],
      "source": []
    },
    {
      "cell_type": "markdown",
      "id": "6c66fb5b-894c-474f-a687-566b21e80524",
      "metadata": {
        "id": "6c66fb5b-894c-474f-a687-566b21e80524"
      },
      "source": [
        "Note that when creating the list 'saying', we made sure that its contents are separated by commas, and that those items that are strings are enclosed in quotes (single, in this case).\n",
        "\n",
        "Lists are just one of several types of 'containers', things that contain other things, that are available in Python. Unlike strings, lists are mutable, meaning that we can change them:\n",
        "```\n",
        "saying[3] = 'Sea'\n",
        "```\n",
        "After that, type print(saying). See what happens when you do that."
      ]
    },
    {
      "cell_type": "code",
      "execution_count": null,
      "id": "e09748f2-ed78-435e-9f05-4bf13b7c9c81",
      "metadata": {
        "id": "e09748f2-ed78-435e-9f05-4bf13b7c9c81"
      },
      "outputs": [],
      "source": []
    },
    {
      "cell_type": "markdown",
      "id": "50399d7e-aaa9-44e2-bfe8-c2c86a581a8a",
      "metadata": {
        "id": "50399d7e-aaa9-44e2-bfe8-c2c86a581a8a"
      },
      "source": [
        "Tuples are another type of container; they are similar to lists, except that they are unmutable (they cannot be changed). You specify a tuple with round brackets rather than squared. Try typing this:\n",
        "```\n",
        "truth = ('Truth', 'is', 'unmutable')\n",
        "```\n",
        "And then this:\n",
        "```\n",
        "truth[2] = 'False'\n",
        "```\n",
        "See what happens."
      ]
    },
    {
      "cell_type": "code",
      "execution_count": null,
      "id": "99dab5d6-1067-438b-8d0b-c19a9b802738",
      "metadata": {
        "id": "99dab5d6-1067-438b-8d0b-c19a9b802738"
      },
      "outputs": [],
      "source": []
    },
    {
      "cell_type": "markdown",
      "id": "bd495ca3-3260-4d6a-959a-0e63cb47f69b",
      "metadata": {
        "id": "bd495ca3-3260-4d6a-959a-0e63cb47f69b"
      },
      "source": [
        "I told you! Tuples are unmutable. You can define a new one, but you cannot change an existing one. And by the way, if you haven't noticed already, this is also the case with strings, they are unmutable.\n",
        "\n",
        "Let's go back to lists, because we haven't finished with them yet. Just like with numbers, we can also do certain operations with lists. For example, try this:\n",
        "\n",
        "```\n",
        "who = \"Humpty Dumpty \"\n",
        "words_in_who = who.split()\n",
        "what = \"sat on the wall\"\n",
        "words_in_what = what.split()\n",
        "phrase = who + what\n",
        "print(phrase)\n",
        "all_words = words_in_who + words_in_what\n",
        "print(all_words)\n",
        "```"
      ]
    },
    {
      "cell_type": "code",
      "execution_count": null,
      "id": "e34cc5bd-c25d-487e-939e-eae333ec695a",
      "metadata": {
        "id": "e34cc5bd-c25d-487e-939e-eae333ec695a"
      },
      "outputs": [],
      "source": []
    },
    {
      "cell_type": "markdown",
      "source": [
        "Here we created the _phrase_ string by concatenating two previously defined strings, _who_ and _what_. Just like you can concatenate strings, you can concatenate lists, which is what we do when we create the variable _all_words_.\n",
        "We will use phrase next to illustrate loops."
      ],
      "metadata": {
        "id": "5Q6ZbnxnjYX9"
      },
      "id": "5Q6ZbnxnjYX9"
    },
    {
      "cell_type": "markdown",
      "id": "f6251bd9-32a5-407d-86ed-96b6bcd79046",
      "metadata": {
        "id": "f6251bd9-32a5-407d-86ed-96b6bcd79046"
      },
      "source": [
        "# Loops\n",
        "\n",
        "A key ingredient in any programming language is loops, which provide a way of repeating the same type of operation on different items. There are several ways to perform loops. For example, imagine that we wanted to loop over all the words in phrase, printing each one of them in a separate line. We would do something like this:\n"
      ]
    },
    {
      "cell_type": "raw",
      "id": "7654cdb9",
      "metadata": {
        "vscode": {
          "languageId": "raw"
        },
        "id": "7654cdb9"
      },
      "source": [
        "```\n",
        "for word in phrase.split():\n",
        "    print(word)\n",
        "```"
      ]
    },
    {
      "cell_type": "markdown",
      "id": "fb6123cb",
      "metadata": {
        "id": "fb6123cb"
      },
      "source": [
        "\n",
        "Notice the indentation of the second line. This is important, as we will see below. Type it and see what happens."
      ]
    },
    {
      "cell_type": "code",
      "source": [],
      "metadata": {
        "id": "fQXAnr9hozR2"
      },
      "id": "fQXAnr9hozR2",
      "execution_count": null,
      "outputs": []
    },
    {
      "cell_type": "markdown",
      "metadata": {
        "id": "e3d46ad2-beb5-4a70-8470-1e399aacb379"
      },
      "source": [
        "In other programming languages loops are typically encapsulated (e.g. in curly braces such as in C and C++, or in do and end do statements in Fortran). Not in Python; in Python we use indentation to delimit the scope of a loop (and of flow control, comming up next). The number of indentation spaces is arbitrary, but has to be at least 1. To understand this, compare the previous result with the result of this:\n",
        "\n",
        "```\n",
        "for word in phrase.split():\n",
        "    pass\n",
        "print(word)\n",
        "```\n",
        "\n",
        "The command _pass_ does nothing, but is necessary above because a _for loop_ expects to do something; if we left the line empty we would get an error (you can try it).\n",
        "\n",
        "\n",
        "The _for loop_ can be used to create a list; this is what is called a _list comprehension_\n",
        "\n",
        "```\n",
        "numbers = [i for i in range(10)]\n",
        "print(numbers)\n",
        "```\n",
        "What are you waiting for? Go ahead and try it!"
      ],
      "id": "e3d46ad2-beb5-4a70-8470-1e399aacb379"
    },
    {
      "cell_type": "code",
      "execution_count": null,
      "id": "67635f20-310d-402f-ac79-89f1514601d0",
      "metadata": {
        "id": "67635f20-310d-402f-ac79-89f1514601d0"
      },
      "outputs": [],
      "source": []
    },
    {
      "cell_type": "markdown",
      "id": "4ec77a0d-5211-4e2b-b71e-32dd821bdc95",
      "metadata": {
        "id": "4ec77a0d-5211-4e2b-b71e-32dd821bdc95"
      },
      "source": [
        "Above, the _range_ command returns a range of integers; notice how the counter starts at zero and goes up to n-1 (in this case 10-1=9).\n",
        "\n",
        "Another useful way to perform a loop is provided by the enumerate command. Rather than explaining what this does, let us illustrate how it works:\n",
        "\n",
        "```\n",
        "for n, number in enumerate(numbers):\n",
        "    print(n, number)\n",
        "```\n",
        "\n",
        "Do we still need to tell you what you have to do now? ;-)"
      ]
    },
    {
      "cell_type": "code",
      "execution_count": null,
      "id": "d787ba51-2511-42a7-977b-8a55b4be2bd3",
      "metadata": {
        "id": "d787ba51-2511-42a7-977b-8a55b4be2bd3"
      },
      "outputs": [],
      "source": []
    },
    {
      "cell_type": "markdown",
      "id": "02520e5d-fa49-4c27-ace5-615c940c08de",
      "metadata": {
        "id": "02520e5d-fa49-4c27-ace5-615c940c08de"
      },
      "source": [
        "Another useful way to do loops is with _while_:\n",
        "\n",
        "```\n",
        "number = 10\n",
        "more_numbers = []\n",
        "while number < 20:\n",
        "    more_numbers.append(number)\n",
        "    number += 1\n",
        "\n",
        "print(more_numbers)\n",
        "```"
      ]
    },
    {
      "cell_type": "code",
      "execution_count": null,
      "id": "5dc3f4af-aef1-41da-b0ea-5a3492e18c0f",
      "metadata": {
        "id": "5dc3f4af-aef1-41da-b0ea-5a3492e18c0f"
      },
      "outputs": [],
      "source": []
    },
    {
      "cell_type": "markdown",
      "id": "34b2e4f2-1244-4ce6-b733-85d3093d2c3b",
      "metadata": {
        "id": "34b2e4f2-1244-4ce6-b733-85d3093d2c3b"
      },
      "source": [
        "There are several new things to notice here: first, note how we initialise an empty list (more_numbers) with a pair of squared brackets enclosing nothing; also there is a new method of the list class, _append_, which, as its name indicates, appends a new item at the end of the list it is applied to; finally, notice how we initialised a counter, _number_, and every time we go through the loop we add a 1 to it with the line _number += 1_. Think about what would happen if we forgot to add 1 to the number counter; what would we get at the end?\n",
        "And what would happen if the final print statement was indented as much as the previous line (number += 1)?\n",
        "\n",
        "# Flow control\n",
        "\n",
        "The _while_ command we saw in the previous cell is an example of a command providing flow control, i.e. controlling what to do when different things happen in the code. In that case, while the counter was less than 20 we kept going appending to more_numbers and increasing the counter, otherwise the job was done.\n",
        "\n",
        "Another classic of control flow is the _if-then-else_ construct, which you might be familiar with from other programming languages. In Python it has the following structure:\n",
        "\n",
        "```\n",
        "if condition_1:\n",
        "   do something\n",
        "elif condition_2:\n",
        "   do something else\n",
        "else:\n",
        "   do some other thing\n",
        "```  \n",
        "\n",
        "(notice the funny syntax of the second case: it's _elif_, not _else if_). There can be as many _elif_ clauses as needed, so you could have one on a third condition, on a fourth, and in general as many as needed.\n",
        "\n",
        "Let's try this out:\n",
        "\n",
        "```\n",
        "many_numbers = numbers + more_numbers\n",
        "\n",
        "for number in many_numbers:\n",
        "    if number < 10:\n",
        "       print(f'{number} is less than 10')\n",
        "    elif number >= 10 and number < 15:\n",
        "       print(f'{number} is between 10 and 15')\n",
        "    else:\n",
        "       print(f'{number} is equal or greater than 15')\n",
        "```\n",
        "\n",
        "Are you waiting for my beard to grow or what?"
      ]
    },
    {
      "cell_type": "code",
      "execution_count": null,
      "id": "810db0ef-1e2e-4bf9-bb4f-21febd628bb3",
      "metadata": {
        "id": "810db0ef-1e2e-4bf9-bb4f-21febd628bb3"
      },
      "outputs": [],
      "source": []
    },
    {
      "cell_type": "markdown",
      "id": "a4a84173-68c0-4ccb-8e89-2790a9c95be3",
      "metadata": {
        "id": "a4a84173-68c0-4ccb-8e89-2790a9c95be3"
      },
      "source": [
        "Things to notice here: first note how we combined the arrays _numbers_ and _more_numbers_ into a new one, _many_numbers_; another thing to notice is how we write _conditions_; in Python a condition is an expression that evaluates to True or False, and in this case, because we are checking conditions on numerical values we can use equality and inequality symbols (=, <, >, >=, etc).\n",
        "\n",
        "Finally, another thing to notice is how we have written the print statements this time: we have used what are called _f-strings_, so called because they begin with an _f_ followed by a usual string, but inside that string variables that are enclosed by curly braces ({}) are substituted by their value when the print statement is executed. Nice, isn't it?\n",
        "\n",
        "## Dictionaries\n",
        "\n",
        "We are now going to take a look at dictionaries, the last kind of container that we will cover. Dictionaries are similar to lists, but instead of being indexed by an integer number, they are indexed by something else, something we call a _key_, and to a key corresponds a specific _value_. Let's see an illustrative example; imagine a dictionary of acronyms of CSIC institutes; we would do something like this:\n",
        "```\n",
        "CSIC = {}  \n",
        "CSIC['ICMAB'] = 'Instituto de Ciencia de Materiales de Barcelona'  \n",
        "CSIC['ICMM'] = 'Instituto de Ciencia de Materiales de Madrid'  \n",
        "CSIC['ICP'] = 'Instituto de Catalisis y Petroleoquimica'  \n",
        "```  \n",
        "etc  \n",
        "  \n",
        "Now, if I wanted to be reminded of which institute had the acronym CNB, say, I would type:  \n",
        "```\n",
        "print(CSIC['CNB'])  \n",
        "```\n",
        "and I would get back the answer. Clear? The set of acronyms are the _keys_ of dictionary CSIC, and the names of the institutes are the corresponding _values_. Given a dictionary, you can query its key values with the method keys. Here we would do that by typing CSIC.keys(), and we would get back a list ['ICMAB', 'ICMM', ...], not necessarily in that order, as dictionaries are _unordered_ containers. Likewise, we could ask for the values, CSIC.values(), and that would return another list with ['Instituto de Ciencia de Materiales de Barcelona', ...], again, not necessarily in that order.\n",
        "\n",
        "It might be not immediately obvious what this could be useful for, but there are many cases in which this kind of container can be extremely useful."
      ]
    },
    {
      "cell_type": "markdown",
      "source": [],
      "metadata": {
        "id": "x1-U-wC2LyMF"
      },
      "id": "x1-U-wC2LyMF"
    },
    {
      "cell_type": "markdown",
      "source": [
        "# Modules\n",
        "\n",
        "The core of Python is rather small; for example, there is no built in function for calculating square roots, or trigonometric functions. However, there are a myriad of extensions, some of them standard, and included in the Python standard library; others have been contributed by groups or individuals, with more specific purposes. Python extensions come in the form of _modules_, and are typically imported in notebooks or python scripts through the _include_ command. Let's say that you want to use some mathematical functions not available in basic Python. You would do this:\n",
        "```\n",
        "import math\n",
        "math.pi\n",
        "math.sin(math.pi)\n",
        "```\n",
        "So, try it!"
      ],
      "metadata": {
        "id": "wYcmtK0iLyve"
      },
      "id": "wYcmtK0iLyve"
    },
    {
      "cell_type": "code",
      "source": [],
      "metadata": {
        "id": "GXpINkAdqsqu"
      },
      "id": "GXpINkAdqsqu",
      "execution_count": null,
      "outputs": []
    },
    {
      "cell_type": "markdown",
      "source": [
        "Every module has a ```module.__dir__()``` listing its contents. If you want to know what is contained in the module math (other than pi and sin) try this:\n",
        "```\n",
        "math.__dir__()\n",
        "```"
      ],
      "metadata": {
        "id": "8rGnsXqXrv1Z"
      },
      "id": "8rGnsXqXrv1Z"
    },
    {
      "cell_type": "code",
      "source": [],
      "metadata": {
        "id": "u3e3HP05sYeI"
      },
      "id": "u3e3HP05sYeI",
      "execution_count": null,
      "outputs": []
    },
    {
      "cell_type": "markdown",
      "source": [
        "You may think it is rather inconvenient to have to refer to things defined in math by prefixing ```math.whatever``` every time. You can avoid that using the following syntax of the _include_ command:\n",
        "```\n",
        "from math include *\n",
        "```\n",
        "Or, if you don't whant to include everything in math, say, you only want to include the constant pi, sin and cos, you would go:\n",
        "```\n",
        "from math include pi, sin, cos\n",
        "```\n",
        "In either of these cases you would not need the prefix math.\n",
        "\n",
        "There are many modules in the Python standard library; math is just one of them, and perhaps not the most useful (we will cover numerics in Python in the next lesson). You can find all the standard library documentation [here](https://docs.python.org/3/library/index.html).\n",
        "\n",
        "# Running Python\n",
        "\n",
        "During this lesson (and in the ones comming up next) we have been using a Jupyter notebook to try out snippets of code. However, there are other ways to run Python. Jupyter is great for combining code and text, but sometimes you just want the code. There are two options here: you can use one of the many Python IDEs, such as ipython, or simply python. This would give you a prompt where you can type python commands line by line. This is useful for checking things fast, but it is not very convenient for more lengthy projects.\n",
        "\n",
        "Eventually, however, you will probably want to create sophisticated pieces of code, that e.g. read data from an excel file, transform that data in some appropriate form and then plot the result in a graph. For that, it is usually best to write a Python script. For that, you simply use your prefered editor, type the python commands and code that you need, and then save it to a file with the extension .py. You would then run the script as required in your operating system; in a unix system (Linux or Mac) you would simply type\n",
        "```\n",
        "python filename.py\n",
        "```\n",
        "where filename.py would be your just saved python script. In Windows you would probably do something like a double click on the file icon.\n",
        "\n",
        "# Where to go from here\n",
        "\n",
        "If you liked Python thus far, and you want to go more in depth, you will find the official python tutorial [here](https://docs.python.org/3/tutorial/index.html), and more elaborate explanations and examples than we can provide in this course in the Kaggle Python course [here](https://www.kaggle.com/code/colinmorris/hello-python).\n",
        "\n",
        "We think that Python is great fun and easy to learn, but the best way to learn is to try things out by yourself. We hope you have enjoyed it so far and hope to see you in the next lesson. Happy coding!\n"
      ],
      "metadata": {
        "id": "9LE99IHBsaHf"
      },
      "id": "9LE99IHBsaHf"
    }
  ],
  "metadata": {
    "kernelspec": {
      "display_name": "Python 3 (ipykernel)",
      "language": "python",
      "name": "python3"
    },
    "language_info": {
      "codemirror_mode": {
        "name": "ipython",
        "version": 3
      },
      "file_extension": ".py",
      "mimetype": "text/x-python",
      "name": "python",
      "nbconvert_exporter": "python",
      "pygments_lexer": "ipython3",
      "version": "3.11.4"
    },
    "colab": {
      "provenance": []
    }
  },
  "nbformat": 4,
  "nbformat_minor": 5
}